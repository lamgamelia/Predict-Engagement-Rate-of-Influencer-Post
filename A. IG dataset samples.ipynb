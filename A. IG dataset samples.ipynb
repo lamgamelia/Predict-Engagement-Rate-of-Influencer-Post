{
 "cells": [
  {
   "cell_type": "code",
   "execution_count": 2,
   "metadata": {},
   "outputs": [],
   "source": [
    "import pandas as pd\n",
    "import numpy as np"
   ]
  },
  {
   "cell_type": "code",
   "execution_count": 3,
   "metadata": {},
   "outputs": [],
   "source": [
    "#Extract influencer dataset\n",
    "influencer_data = pd.read_csv('/Users/lamga/OneDrive/IOD Lessons/Projects/Extract IG influencer dataset/influencer_data_rev.csv')"
   ]
  },
  {
   "cell_type": "code",
   "execution_count": 4,
   "metadata": {},
   "outputs": [],
   "source": [
    "#Get list of influencers\n",
    "influencer_list = influencer_data['Username'].tolist()"
   ]
  },
  {
   "cell_type": "code",
   "execution_count": 5,
   "metadata": {},
   "outputs": [],
   "source": [
    "#Check available datasets\n",
    "df_filenames = pd.read_csv('/Users/lamga/OneDrive/IOD Lessons/Projects/Extract IG influencer dataset/file_mapping_content.csv',\n",
    "                          dtype={\"contents\": \"string\"})"
   ]
  },
  {
   "cell_type": "code",
   "execution_count": 6,
   "metadata": {},
   "outputs": [
    {
     "data": {
      "text/plain": [
       "33889"
      ]
     },
     "execution_count": 6,
     "metadata": {},
     "output_type": "execute_result"
    }
   ],
   "source": [
    "df_filenames['influencer'].nunique()"
   ]
  },
  {
   "cell_type": "code",
   "execution_count": 7,
   "metadata": {},
   "outputs": [
    {
     "data": {
      "text/plain": [
       "(10078910, 4)"
      ]
     },
     "execution_count": 7,
     "metadata": {},
     "output_type": "execute_result"
    }
   ],
   "source": [
    "df_filenames.shape"
   ]
  },
  {
   "cell_type": "code",
   "execution_count": 8,
   "metadata": {},
   "outputs": [],
   "source": [
    "dfs_filenames = df_filenames[df_filenames['influencer'].isin(influencer_list)]"
   ]
  },
  {
   "cell_type": "code",
   "execution_count": 9,
   "metadata": {},
   "outputs": [
    {
     "data": {
      "text/plain": [
       "25265"
      ]
     },
     "execution_count": 9,
     "metadata": {},
     "output_type": "execute_result"
    }
   ],
   "source": [
    "dfs_filenames['influencer'].nunique()"
   ]
  },
  {
   "cell_type": "code",
   "execution_count": 10,
   "metadata": {},
   "outputs": [
    {
     "data": {
      "text/plain": [
       "(7514712, 4)"
      ]
     },
     "execution_count": 10,
     "metadata": {},
     "output_type": "execute_result"
    }
   ],
   "source": [
    "dfs_filenames.shape"
   ]
  },
  {
   "cell_type": "code",
   "execution_count": 11,
   "metadata": {},
   "outputs": [
    {
     "data": {
      "text/html": [
       "<div>\n",
       "<style scoped>\n",
       "    .dataframe tbody tr th:only-of-type {\n",
       "        vertical-align: middle;\n",
       "    }\n",
       "\n",
       "    .dataframe tbody tr th {\n",
       "        vertical-align: top;\n",
       "    }\n",
       "\n",
       "    .dataframe thead th {\n",
       "        text-align: right;\n",
       "    }\n",
       "</style>\n",
       "<table border=\"1\" class=\"dataframe\">\n",
       "  <thead>\n",
       "    <tr style=\"text-align: right;\">\n",
       "      <th></th>\n",
       "      <th>influencer</th>\n",
       "      <th>posts</th>\n",
       "      <th>image</th>\n",
       "      <th>contents</th>\n",
       "    </tr>\n",
       "  </thead>\n",
       "  <tbody>\n",
       "    <tr>\n",
       "      <th>300</th>\n",
       "      <td>00s_supermodels</td>\n",
       "      <td>1845862301087188249.info</td>\n",
       "      <td>['1845861939286995996.jpg', '18458619476504721...</td>\n",
       "      <td>{\"gating_info\": null, \"viewer_can_reshare\": tr...</td>\n",
       "    </tr>\n",
       "    <tr>\n",
       "      <th>301</th>\n",
       "      <td>00s_supermodels</td>\n",
       "      <td>1845877547776500327.info</td>\n",
       "      <td>['1845877547776500327.jpg']</td>\n",
       "      <td>{\"gating_info\": null, \"viewer_can_reshare\": tr...</td>\n",
       "    </tr>\n",
       "    <tr>\n",
       "      <th>302</th>\n",
       "      <td>00s_supermodels</td>\n",
       "      <td>1845881622442155757.info</td>\n",
       "      <td>['1845881549864326529.jpg', '18458815596371735...</td>\n",
       "      <td>{\"gating_info\": null, \"viewer_can_reshare\": tr...</td>\n",
       "    </tr>\n",
       "    <tr>\n",
       "      <th>303</th>\n",
       "      <td>00s_supermodels</td>\n",
       "      <td>1846300638369512714.info</td>\n",
       "      <td>['1846300638369512714.jpg']</td>\n",
       "      <td>{\"gating_info\": null, \"viewer_can_reshare\": tr...</td>\n",
       "    </tr>\n",
       "    <tr>\n",
       "      <th>304</th>\n",
       "      <td>00s_supermodels</td>\n",
       "      <td>1847373891523510539.info</td>\n",
       "      <td>['1847373891523510539.jpg']</td>\n",
       "      <td>{\"gating_info\": null, \"viewer_can_reshare\": tr...</td>\n",
       "    </tr>\n",
       "  </tbody>\n",
       "</table>\n",
       "</div>"
      ],
      "text/plain": [
       "          influencer                     posts  \\\n",
       "300  00s_supermodels  1845862301087188249.info   \n",
       "301  00s_supermodels  1845877547776500327.info   \n",
       "302  00s_supermodels  1845881622442155757.info   \n",
       "303  00s_supermodels  1846300638369512714.info   \n",
       "304  00s_supermodels  1847373891523510539.info   \n",
       "\n",
       "                                                 image  \\\n",
       "300  ['1845861939286995996.jpg', '18458619476504721...   \n",
       "301                        ['1845877547776500327.jpg']   \n",
       "302  ['1845881549864326529.jpg', '18458815596371735...   \n",
       "303                        ['1846300638369512714.jpg']   \n",
       "304                        ['1847373891523510539.jpg']   \n",
       "\n",
       "                                              contents  \n",
       "300  {\"gating_info\": null, \"viewer_can_reshare\": tr...  \n",
       "301  {\"gating_info\": null, \"viewer_can_reshare\": tr...  \n",
       "302  {\"gating_info\": null, \"viewer_can_reshare\": tr...  \n",
       "303  {\"gating_info\": null, \"viewer_can_reshare\": tr...  \n",
       "304  {\"gating_info\": null, \"viewer_can_reshare\": tr...  "
      ]
     },
     "execution_count": 11,
     "metadata": {},
     "output_type": "execute_result"
    }
   ],
   "source": [
    "dfs_filenames.head()"
   ]
  },
  {
   "cell_type": "code",
   "execution_count": 14,
   "metadata": {},
   "outputs": [],
   "source": [
    "def sample(x):\n",
    "    try:\n",
    "        result = x.sample(n=10, replace=False,random_state=1)\n",
    "    except:\n",
    "        result = x\n",
    "    return result"
   ]
  },
  {
   "cell_type": "code",
   "execution_count": 18,
   "metadata": {},
   "outputs": [],
   "source": [
    "dfs10 = dfs_filenames.groupby('influencer').apply(lambda x: sample(x))"
   ]
  },
  {
   "cell_type": "code",
   "execution_count": 19,
   "metadata": {},
   "outputs": [],
   "source": [
    "dfs10 = dfs10.droplevel(0).reset_index(drop=True)"
   ]
  },
  {
   "cell_type": "code",
   "execution_count": 20,
   "metadata": {},
   "outputs": [],
   "source": [
    "dfs10.drop_duplicates(inplace=True)"
   ]
  },
  {
   "cell_type": "code",
   "execution_count": 22,
   "metadata": {},
   "outputs": [
    {
     "data": {
      "text/plain": [
       "(252645, 4)"
      ]
     },
     "execution_count": 22,
     "metadata": {},
     "output_type": "execute_result"
    }
   ],
   "source": [
    "dfs10.shape"
   ]
  },
  {
   "cell_type": "code",
   "execution_count": 23,
   "metadata": {},
   "outputs": [],
   "source": [
    "dfs10.reset_index(drop=True, inplace=True)"
   ]
  },
  {
   "cell_type": "code",
   "execution_count": 24,
   "metadata": {},
   "outputs": [
    {
     "name": "stdout",
     "output_type": "stream",
     "text": [
      "25265 252645\n"
     ]
    }
   ],
   "source": [
    "#Note that we have some duplicate posts ~310k\n",
    "print(dfs10['influencer'].nunique(), dfs10['posts'].nunique())"
   ]
  },
  {
   "cell_type": "code",
   "execution_count": 25,
   "metadata": {},
   "outputs": [
    {
     "data": {
      "text/html": [
       "<div>\n",
       "<style scoped>\n",
       "    .dataframe tbody tr th:only-of-type {\n",
       "        vertical-align: middle;\n",
       "    }\n",
       "\n",
       "    .dataframe tbody tr th {\n",
       "        vertical-align: top;\n",
       "    }\n",
       "\n",
       "    .dataframe thead th {\n",
       "        text-align: right;\n",
       "    }\n",
       "</style>\n",
       "<table border=\"1\" class=\"dataframe\">\n",
       "  <thead>\n",
       "    <tr style=\"text-align: right;\">\n",
       "      <th></th>\n",
       "      <th>influencer</th>\n",
       "      <th>posts</th>\n",
       "      <th>image</th>\n",
       "      <th>contents</th>\n",
       "    </tr>\n",
       "  </thead>\n",
       "  <tbody>\n",
       "    <tr>\n",
       "      <th>252640</th>\n",
       "      <td>zyndl_lala</td>\n",
       "      <td>1753783027169190481.info</td>\n",
       "      <td>['1753783027169190481.jpg']</td>\n",
       "      <td>&lt;NA&gt;</td>\n",
       "    </tr>\n",
       "    <tr>\n",
       "      <th>252641</th>\n",
       "      <td>zyndl_lala</td>\n",
       "      <td>1821632628576354559.info</td>\n",
       "      <td>['1821632628576354559.jpg']</td>\n",
       "      <td>&lt;NA&gt;</td>\n",
       "    </tr>\n",
       "    <tr>\n",
       "      <th>252642</th>\n",
       "      <td>zyndl_lala</td>\n",
       "      <td>1696346693367657579.info</td>\n",
       "      <td>['1696346693367657579.jpg']</td>\n",
       "      <td>&lt;NA&gt;</td>\n",
       "    </tr>\n",
       "    <tr>\n",
       "      <th>252643</th>\n",
       "      <td>zyndl_lala</td>\n",
       "      <td>1978918308767798491.info</td>\n",
       "      <td>['1978918308767798491.jpg']</td>\n",
       "      <td>&lt;NA&gt;</td>\n",
       "    </tr>\n",
       "    <tr>\n",
       "      <th>252644</th>\n",
       "      <td>zyndl_lala</td>\n",
       "      <td>1937599324781268346.info</td>\n",
       "      <td>['1937599324781268346.jpg']</td>\n",
       "      <td>&lt;NA&gt;</td>\n",
       "    </tr>\n",
       "  </tbody>\n",
       "</table>\n",
       "</div>"
      ],
      "text/plain": [
       "        influencer                     posts                        image  \\\n",
       "252640  zyndl_lala  1753783027169190481.info  ['1753783027169190481.jpg']   \n",
       "252641  zyndl_lala  1821632628576354559.info  ['1821632628576354559.jpg']   \n",
       "252642  zyndl_lala  1696346693367657579.info  ['1696346693367657579.jpg']   \n",
       "252643  zyndl_lala  1978918308767798491.info  ['1978918308767798491.jpg']   \n",
       "252644  zyndl_lala  1937599324781268346.info  ['1937599324781268346.jpg']   \n",
       "\n",
       "       contents  \n",
       "252640     <NA>  \n",
       "252641     <NA>  \n",
       "252642     <NA>  \n",
       "252643     <NA>  \n",
       "252644     <NA>  "
      ]
     },
     "execution_count": 25,
     "metadata": {},
     "output_type": "execute_result"
    }
   ],
   "source": [
    "dfs10.tail()"
   ]
  },
  {
   "cell_type": "code",
   "execution_count": 26,
   "metadata": {},
   "outputs": [
    {
     "data": {
      "text/plain": [
       "'00s_supermodels-1920139034731094095.info'"
      ]
     },
     "execution_count": 26,
     "metadata": {},
     "output_type": "execute_result"
    }
   ],
   "source": [
    "# Test filename construction for json\n",
    "dfs10['influencer'].iloc[1] + '-' +dfs10['posts'].iloc[1]"
   ]
  },
  {
   "cell_type": "code",
   "execution_count": 27,
   "metadata": {},
   "outputs": [],
   "source": [
    "JSON_path = '/Volumes/Untitled/Post metadata (JSON files)/Post metadata (JSON files)/info/'"
   ]
  },
  {
   "cell_type": "code",
   "execution_count": 24,
   "metadata": {},
   "outputs": [],
   "source": [
    "#Only use this for first time compilation\n",
    "#df_filenames['contents']=''"
   ]
  },
  {
   "cell_type": "code",
   "execution_count": 25,
   "metadata": {},
   "outputs": [],
   "source": [
    "# Try extract for one row\n",
    "#i = 3\n",
    "#JSON_filename = dfs100['influencer'].iloc[i] + '-' +dfs100['posts'].iloc[i]\n",
    "#JSON_content = open(JSON_path+JSON_filename, \"r\").read()\n",
    "#JSON_content"
   ]
  },
  {
   "cell_type": "code",
   "execution_count": 28,
   "metadata": {},
   "outputs": [],
   "source": [
    "from tqdm import tqdm\n",
    "import time"
   ]
  },
  {
   "cell_type": "code",
   "execution_count": 27,
   "metadata": {},
   "outputs": [],
   "source": [
    "#for i in tqdm(range(50, 100000)):\n",
    "\n",
    "#    JSON_filename = dfs100['influencer'].iloc[i] + '-' +dfs100['posts'].iloc[i]\n",
    "    \n",
    "#    try:\n",
    "#        JSON_content = open(JSON_path+JSON_filename, \"r\").read()\n",
    "#        dfs100['contents'].iloc[i] = JSON_content\n",
    "#    except Exception:\n",
    "#        pass"
   ]
  },
  {
   "cell_type": "code",
   "execution_count": 29,
   "metadata": {},
   "outputs": [],
   "source": [
    "def run_content (end):\n",
    "    #step = 1000000\n",
    "    #start = end - step #110000\n",
    "    #end = 210000 #200000\n",
    "    for i in tqdm(range(end)):\n",
    "\n",
    "        JSON_filename = dfs10['influencer'].iloc[i] + '-' +dfs10['posts'].iloc[i]\n",
    "    \n",
    "        try:\n",
    "            JSON_content = open(JSON_path+JSON_filename, \"r\").read()\n",
    "            dfs10['contents'].iloc[i] = JSON_content\n",
    "        except Exception:\n",
    "            dfs10['contents'].iloc[i] = 'None'"
   ]
  },
  {
   "cell_type": "code",
   "execution_count": 30,
   "metadata": {},
   "outputs": [
    {
     "name": "stderr",
     "output_type": "stream",
     "text": [
      "100%|██████████| 252645/252645 [4:12:48<00:00, 16.66it/s]   "
     ]
    },
    {
     "name": "stdout",
     "output_type": "stream",
     "text": [
      "Finished in 15148.22 second(s)\n"
     ]
    },
    {
     "name": "stderr",
     "output_type": "stream",
     "text": [
      "\n"
     ]
    }
   ],
   "source": [
    "start = time.perf_counter()\n",
    "run_content(252645) #last count: 360000, 860000\n",
    "finish = time.perf_counter()\n",
    "print(f'Finished in {round(finish-start, 2)} second(s)')"
   ]
  },
  {
   "cell_type": "code",
   "execution_count": 230,
   "metadata": {},
   "outputs": [],
   "source": [
    "#import concurrent.futures"
   ]
  },
  {
   "cell_type": "code",
   "execution_count": 242,
   "metadata": {},
   "outputs": [
    {
     "name": "stdout",
     "output_type": "stream",
     "text": [
      "Finished in 409.34 second(s)\n"
     ]
    }
   ],
   "source": [
    "#start = time.perf_counter()\n",
    "#with concurrent.futures.ThreadPoolExecutor() as executor:\n",
    "#    f1 = executor.submit(run_content, 240000)\n",
    "#    f2 = executor.submit(run_content, 250000)\n",
    "\n",
    "#finish = time.perf_counter()\n",
    "#print(f'Finished in {round(finish-start, 2)} second(s)')"
   ]
  },
  {
   "cell_type": "code",
   "execution_count": 31,
   "metadata": {},
   "outputs": [
    {
     "data": {
      "text/html": [
       "<div>\n",
       "<style scoped>\n",
       "    .dataframe tbody tr th:only-of-type {\n",
       "        vertical-align: middle;\n",
       "    }\n",
       "\n",
       "    .dataframe tbody tr th {\n",
       "        vertical-align: top;\n",
       "    }\n",
       "\n",
       "    .dataframe thead th {\n",
       "        text-align: right;\n",
       "    }\n",
       "</style>\n",
       "<table border=\"1\" class=\"dataframe\">\n",
       "  <thead>\n",
       "    <tr style=\"text-align: right;\">\n",
       "      <th></th>\n",
       "      <th>influencer</th>\n",
       "      <th>posts</th>\n",
       "      <th>image</th>\n",
       "      <th>contents</th>\n",
       "    </tr>\n",
       "  </thead>\n",
       "  <tbody>\n",
       "    <tr>\n",
       "      <th>90</th>\n",
       "      <td>19dreamcatcherz</td>\n",
       "      <td>1798975650012680740.info</td>\n",
       "      <td>['1798975650012680740.jpg']</td>\n",
       "      <td>{\"gating_info\": null, \"viewer_can_reshare\": tr...</td>\n",
       "    </tr>\n",
       "    <tr>\n",
       "      <th>91</th>\n",
       "      <td>19dreamcatcherz</td>\n",
       "      <td>1724095703510464565.info</td>\n",
       "      <td>['1724095703510464565.jpg']</td>\n",
       "      <td>{\"gating_info\": null, \"viewer_can_reshare\": tr...</td>\n",
       "    </tr>\n",
       "    <tr>\n",
       "      <th>92</th>\n",
       "      <td>19dreamcatcherz</td>\n",
       "      <td>1795792080926531853.info</td>\n",
       "      <td>['1795792080926531853.jpg']</td>\n",
       "      <td>{\"gating_info\": null, \"viewer_can_reshare\": tr...</td>\n",
       "    </tr>\n",
       "    <tr>\n",
       "      <th>93</th>\n",
       "      <td>19dreamcatcherz</td>\n",
       "      <td>1828391330990330601.info</td>\n",
       "      <td>['1828391330990330601.jpg']</td>\n",
       "      <td>{\"gating_info\": null, \"viewer_can_reshare\": tr...</td>\n",
       "    </tr>\n",
       "    <tr>\n",
       "      <th>94</th>\n",
       "      <td>19dreamcatcherz</td>\n",
       "      <td>1690258760466939181.info</td>\n",
       "      <td>['1690258760466939181.jpg']</td>\n",
       "      <td>{\"gating_info\": null, \"viewer_can_reshare\": tr...</td>\n",
       "    </tr>\n",
       "    <tr>\n",
       "      <th>95</th>\n",
       "      <td>19dreamcatcherz</td>\n",
       "      <td>1730906855395054151.info</td>\n",
       "      <td>['1730906855395054151.jpg']</td>\n",
       "      <td>{\"gating_info\": null, \"viewer_can_reshare\": tr...</td>\n",
       "    </tr>\n",
       "    <tr>\n",
       "      <th>96</th>\n",
       "      <td>19dreamcatcherz</td>\n",
       "      <td>1788225203023056575.info</td>\n",
       "      <td>['1788225203023056575.jpg']</td>\n",
       "      <td>{\"gating_info\": null, \"viewer_can_reshare\": tr...</td>\n",
       "    </tr>\n",
       "    <tr>\n",
       "      <th>97</th>\n",
       "      <td>19dreamcatcherz</td>\n",
       "      <td>1656976106496238172.info</td>\n",
       "      <td>['1656976106496238172.jpg']</td>\n",
       "      <td>{\"gating_info\": null, \"viewer_can_reshare\": tr...</td>\n",
       "    </tr>\n",
       "    <tr>\n",
       "      <th>98</th>\n",
       "      <td>19dreamcatcherz</td>\n",
       "      <td>1930707559272296034.info</td>\n",
       "      <td>['1930707559272296034.jpg']</td>\n",
       "      <td>{\"gating_info\": null, \"viewer_can_reshare\": tr...</td>\n",
       "    </tr>\n",
       "    <tr>\n",
       "      <th>99</th>\n",
       "      <td>19dreamcatcherz</td>\n",
       "      <td>1873491197647282262.info</td>\n",
       "      <td>['1873491197647282262.jpg']</td>\n",
       "      <td>{\"gating_info\": null, \"viewer_can_reshare\": tr...</td>\n",
       "    </tr>\n",
       "    <tr>\n",
       "      <th>100</th>\n",
       "      <td>1_0.8</td>\n",
       "      <td>1874547311112472281.info</td>\n",
       "      <td>['1874547311112472281.jpg']</td>\n",
       "      <td>{\"gating_info\": null, \"viewer_can_reshare\": tr...</td>\n",
       "    </tr>\n",
       "    <tr>\n",
       "      <th>101</th>\n",
       "      <td>1_0.8</td>\n",
       "      <td>1793450877190415913.info</td>\n",
       "      <td>['1793450586676798080.jpg', '17934505944866043...</td>\n",
       "      <td>{\"gating_info\": null, \"viewer_can_reshare\": tr...</td>\n",
       "    </tr>\n",
       "    <tr>\n",
       "      <th>102</th>\n",
       "      <td>1_0.8</td>\n",
       "      <td>1863650541809629908.info</td>\n",
       "      <td>['1863650541809629908.jpg']</td>\n",
       "      <td>{\"gating_info\": null, \"viewer_can_reshare\": tr...</td>\n",
       "    </tr>\n",
       "    <tr>\n",
       "      <th>103</th>\n",
       "      <td>1_0.8</td>\n",
       "      <td>1899247705663057655.info</td>\n",
       "      <td>['1899247705663057655.jpg']</td>\n",
       "      <td>{\"gating_info\": null, \"viewer_can_reshare\": tr...</td>\n",
       "    </tr>\n",
       "    <tr>\n",
       "      <th>104</th>\n",
       "      <td>1_0.8</td>\n",
       "      <td>1768070976702993328.info</td>\n",
       "      <td>['1768070262588374824.jpg', '17680702637291088...</td>\n",
       "      <td>{\"gating_info\": null, \"viewer_can_reshare\": tr...</td>\n",
       "    </tr>\n",
       "    <tr>\n",
       "      <th>105</th>\n",
       "      <td>1_0.8</td>\n",
       "      <td>1799141663156478124.info</td>\n",
       "      <td>['1799141663156478124.jpg']</td>\n",
       "      <td>{\"gating_info\": null, \"viewer_can_reshare\": tr...</td>\n",
       "    </tr>\n",
       "    <tr>\n",
       "      <th>106</th>\n",
       "      <td>1_0.8</td>\n",
       "      <td>1849279453931699340.info</td>\n",
       "      <td>['1849279453931699340.jpg']</td>\n",
       "      <td>{\"gating_info\": null, \"viewer_can_reshare\": tr...</td>\n",
       "    </tr>\n",
       "    <tr>\n",
       "      <th>107</th>\n",
       "      <td>1_0.8</td>\n",
       "      <td>1731865332895645784.info</td>\n",
       "      <td>['1731865307074645292.jpg', '17318653116968908...</td>\n",
       "      <td>{\"gating_info\": null, \"viewer_can_reshare\": tr...</td>\n",
       "    </tr>\n",
       "    <tr>\n",
       "      <th>108</th>\n",
       "      <td>1_0.8</td>\n",
       "      <td>1978827711262504948.info</td>\n",
       "      <td>['1978827711262504948.jpg']</td>\n",
       "      <td>{\"gating_info\": null, \"viewer_can_reshare\": tr...</td>\n",
       "    </tr>\n",
       "    <tr>\n",
       "      <th>109</th>\n",
       "      <td>1_0.8</td>\n",
       "      <td>1950650713566657185.info</td>\n",
       "      <td>['1950650713566657185.jpg']</td>\n",
       "      <td>{\"gating_info\": null, \"viewer_can_reshare\": tr...</td>\n",
       "    </tr>\n",
       "  </tbody>\n",
       "</table>\n",
       "</div>"
      ],
      "text/plain": [
       "          influencer                     posts  \\\n",
       "90   19dreamcatcherz  1798975650012680740.info   \n",
       "91   19dreamcatcherz  1724095703510464565.info   \n",
       "92   19dreamcatcherz  1795792080926531853.info   \n",
       "93   19dreamcatcherz  1828391330990330601.info   \n",
       "94   19dreamcatcherz  1690258760466939181.info   \n",
       "95   19dreamcatcherz  1730906855395054151.info   \n",
       "96   19dreamcatcherz  1788225203023056575.info   \n",
       "97   19dreamcatcherz  1656976106496238172.info   \n",
       "98   19dreamcatcherz  1930707559272296034.info   \n",
       "99   19dreamcatcherz  1873491197647282262.info   \n",
       "100            1_0.8  1874547311112472281.info   \n",
       "101            1_0.8  1793450877190415913.info   \n",
       "102            1_0.8  1863650541809629908.info   \n",
       "103            1_0.8  1899247705663057655.info   \n",
       "104            1_0.8  1768070976702993328.info   \n",
       "105            1_0.8  1799141663156478124.info   \n",
       "106            1_0.8  1849279453931699340.info   \n",
       "107            1_0.8  1731865332895645784.info   \n",
       "108            1_0.8  1978827711262504948.info   \n",
       "109            1_0.8  1950650713566657185.info   \n",
       "\n",
       "                                                 image  \\\n",
       "90                         ['1798975650012680740.jpg']   \n",
       "91                         ['1724095703510464565.jpg']   \n",
       "92                         ['1795792080926531853.jpg']   \n",
       "93                         ['1828391330990330601.jpg']   \n",
       "94                         ['1690258760466939181.jpg']   \n",
       "95                         ['1730906855395054151.jpg']   \n",
       "96                         ['1788225203023056575.jpg']   \n",
       "97                         ['1656976106496238172.jpg']   \n",
       "98                         ['1930707559272296034.jpg']   \n",
       "99                         ['1873491197647282262.jpg']   \n",
       "100                        ['1874547311112472281.jpg']   \n",
       "101  ['1793450586676798080.jpg', '17934505944866043...   \n",
       "102                        ['1863650541809629908.jpg']   \n",
       "103                        ['1899247705663057655.jpg']   \n",
       "104  ['1768070262588374824.jpg', '17680702637291088...   \n",
       "105                        ['1799141663156478124.jpg']   \n",
       "106                        ['1849279453931699340.jpg']   \n",
       "107  ['1731865307074645292.jpg', '17318653116968908...   \n",
       "108                        ['1978827711262504948.jpg']   \n",
       "109                        ['1950650713566657185.jpg']   \n",
       "\n",
       "                                              contents  \n",
       "90   {\"gating_info\": null, \"viewer_can_reshare\": tr...  \n",
       "91   {\"gating_info\": null, \"viewer_can_reshare\": tr...  \n",
       "92   {\"gating_info\": null, \"viewer_can_reshare\": tr...  \n",
       "93   {\"gating_info\": null, \"viewer_can_reshare\": tr...  \n",
       "94   {\"gating_info\": null, \"viewer_can_reshare\": tr...  \n",
       "95   {\"gating_info\": null, \"viewer_can_reshare\": tr...  \n",
       "96   {\"gating_info\": null, \"viewer_can_reshare\": tr...  \n",
       "97   {\"gating_info\": null, \"viewer_can_reshare\": tr...  \n",
       "98   {\"gating_info\": null, \"viewer_can_reshare\": tr...  \n",
       "99   {\"gating_info\": null, \"viewer_can_reshare\": tr...  \n",
       "100  {\"gating_info\": null, \"viewer_can_reshare\": tr...  \n",
       "101  {\"gating_info\": null, \"viewer_can_reshare\": tr...  \n",
       "102  {\"gating_info\": null, \"viewer_can_reshare\": tr...  \n",
       "103  {\"gating_info\": null, \"viewer_can_reshare\": tr...  \n",
       "104  {\"gating_info\": null, \"viewer_can_reshare\": tr...  \n",
       "105  {\"gating_info\": null, \"viewer_can_reshare\": tr...  \n",
       "106  {\"gating_info\": null, \"viewer_can_reshare\": tr...  \n",
       "107  {\"gating_info\": null, \"viewer_can_reshare\": tr...  \n",
       "108  {\"gating_info\": null, \"viewer_can_reshare\": tr...  \n",
       "109  {\"gating_info\": null, \"viewer_can_reshare\": tr...  "
      ]
     },
     "execution_count": 31,
     "metadata": {},
     "output_type": "execute_result"
    }
   ],
   "source": [
    "j = 110\n",
    "i = j-20\n",
    "dfs10.iloc[i:j]"
   ]
  },
  {
   "cell_type": "code",
   "execution_count": 32,
   "metadata": {},
   "outputs": [],
   "source": [
    "#len(dfs10.iloc[230000:360000][dfs10.iloc[230000:360000]['contents'].isna()].index.tolist())"
   ]
  },
  {
   "cell_type": "code",
   "execution_count": 34,
   "metadata": {},
   "outputs": [
    {
     "data": {
      "text/plain": [
       "0"
      ]
     },
     "execution_count": 34,
     "metadata": {},
     "output_type": "execute_result"
    }
   ],
   "source": [
    "len(dfs10[dfs10['contents'].isna()].index.tolist())"
   ]
  },
  {
   "cell_type": "code",
   "execution_count": 35,
   "metadata": {},
   "outputs": [
    {
     "data": {
      "text/plain": [
       "10452"
      ]
     },
     "execution_count": 35,
     "metadata": {},
     "output_type": "execute_result"
    }
   ],
   "source": [
    "len(dfs10[dfs10['contents']=='None'].index.tolist()) #has to be 0"
   ]
  },
  {
   "cell_type": "code",
   "execution_count": 40,
   "metadata": {},
   "outputs": [],
   "source": [
    "row = dfs10[dfs10['contents']=='None'].index.to_list()\n",
    "dfs10.loc[row, 'contents'] = np.NaN"
   ]
  },
  {
   "cell_type": "code",
   "execution_count": 41,
   "metadata": {},
   "outputs": [
    {
     "data": {
      "text/plain": [
       "(242193, 4)"
      ]
     },
     "execution_count": 41,
     "metadata": {},
     "output_type": "execute_result"
    }
   ],
   "source": [
    "dfs10.dropna().shape"
   ]
  },
  {
   "cell_type": "code",
   "execution_count": 42,
   "metadata": {},
   "outputs": [
    {
     "data": {
      "text/plain": [
       "0"
      ]
     },
     "execution_count": 42,
     "metadata": {},
     "output_type": "execute_result"
    }
   ],
   "source": [
    "len(dfs10[dfs10['contents']=='None'].index.tolist()) #has to be 0"
   ]
  },
  {
   "cell_type": "code",
   "execution_count": null,
   "metadata": {},
   "outputs": [],
   "source": [
    "#clean content of nan one more time\n",
    "row = dfs10[dfs10['contents']=='nan'].index.to_list()\n",
    "dfs10.loc[row, 'contents'] = np.NaN"
   ]
  },
  {
   "cell_type": "code",
   "execution_count": 43,
   "metadata": {},
   "outputs": [],
   "source": [
    "#export the data set\n",
    "dfs10.to_csv('/Users/lamga/OneDrive/IOD Lessons/Projects/Extract IG influencer dataset/dfs10.csv',index=False, header=True)\n",
    "dfs10.dropna().to_csv('/Users/lamga/OneDrive/IOD Lessons/Projects/Extract IG influencer dataset/dfs10drop.csv',index=False, header=True)"
   ]
  }
 ],
 "metadata": {
  "kernelspec": {
   "display_name": "Python 3",
   "language": "python",
   "name": "python3"
  },
  "language_info": {
   "codemirror_mode": {
    "name": "ipython",
    "version": 3
   },
   "file_extension": ".py",
   "mimetype": "text/x-python",
   "name": "python",
   "nbconvert_exporter": "python",
   "pygments_lexer": "ipython3",
   "version": "3.8.8"
  }
 },
 "nbformat": 4,
 "nbformat_minor": 4
}
