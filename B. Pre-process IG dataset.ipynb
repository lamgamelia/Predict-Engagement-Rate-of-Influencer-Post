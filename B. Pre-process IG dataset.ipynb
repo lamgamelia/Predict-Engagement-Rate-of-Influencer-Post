{
 "cells": [
  {
   "cell_type": "code",
   "execution_count": 33,
   "id": "3e0053f2",
   "metadata": {},
   "outputs": [],
   "source": [
    "import pandas as pd\n",
    "import numpy as np\n",
    "import re"
   ]
  },
  {
   "cell_type": "code",
   "execution_count": 34,
   "id": "5c67a712",
   "metadata": {},
   "outputs": [
    {
     "name": "stdout",
     "output_type": "stream",
     "text": [
      "/opt/anaconda3/envs/nlp21v0/bin/python\n"
     ]
    }
   ],
   "source": [
    "import sys\n",
    "print(sys.executable)"
   ]
  },
  {
   "cell_type": "markdown",
   "id": "29e8e439",
   "metadata": {},
   "source": [
    "### Step 1 Export file_mapping to DataFrame - *Done no need to repeat*"
   ]
  },
  {
   "cell_type": "code",
   "execution_count": 7,
   "id": "76248608",
   "metadata": {},
   "outputs": [],
   "source": [
    "#f = open(r\"C:\\Users\\admin\\IOD Lessons\\Projects\\Extract IG influencer dataset\\Influencer dataset\\JSON-Image_files_mapping.txt\", 'r')\n",
    "#print(f.read(10000))"
   ]
  },
  {
   "cell_type": "code",
   "execution_count": 8,
   "id": "b39296cb",
   "metadata": {},
   "outputs": [],
   "source": [
    "#data = pd.read_csv(\"Influencer dataset\\JSON-Image_files_mapping.txt\",skiprows=1, sep='\\t', header=None)"
   ]
  },
  {
   "cell_type": "code",
   "execution_count": 1,
   "id": "62f7ec54",
   "metadata": {},
   "outputs": [],
   "source": [
    "#df_filenames = pd.read_csv('/Users/lamga/OneDrive/IOD Lessons/Projects/Extract IG influencer dataset/file_mapping_content.csv',\n",
    "                          #dtype={\"contents\": \"string\"})"
   ]
  },
  {
   "cell_type": "code",
   "execution_count": 9,
   "id": "c9e0a7b6",
   "metadata": {},
   "outputs": [],
   "source": [
    "#data[data[1]=='1480568842539709105.info']"
   ]
  },
  {
   "cell_type": "code",
   "execution_count": 10,
   "id": "611beef8",
   "metadata": {},
   "outputs": [],
   "source": [
    "#data[2].apply(eval).iloc[[107]]"
   ]
  },
  {
   "cell_type": "code",
   "execution_count": 11,
   "id": "3c6d93bf",
   "metadata": {},
   "outputs": [],
   "source": [
    "#data.columns=['influencer','posts','image']"
   ]
  },
  {
   "cell_type": "code",
   "execution_count": 12,
   "id": "1befe3b0",
   "metadata": {},
   "outputs": [],
   "source": [
    "#data.head()"
   ]
  },
  {
   "cell_type": "code",
   "execution_count": 13,
   "id": "6c4bc779",
   "metadata": {},
   "outputs": [],
   "source": [
    "#export the data set\n",
    "#data.to_csv(r'D:\\file_mapping.csv',index=False, header=True)"
   ]
  },
  {
   "cell_type": "markdown",
   "id": "a625059b",
   "metadata": {},
   "source": [
    "Influencers mapping"
   ]
  },
  {
   "cell_type": "code",
   "execution_count": 14,
   "id": "c053e975",
   "metadata": {},
   "outputs": [],
   "source": [
    "#influencer_data = pd.read_csv('D:\\influencers.txt',sep='\\t')"
   ]
  },
  {
   "cell_type": "code",
   "execution_count": 15,
   "id": "d34b8dd4",
   "metadata": {},
   "outputs": [],
   "source": [
    "#influencer_data.dropna(inplace=True)"
   ]
  },
  {
   "cell_type": "code",
   "execution_count": 16,
   "id": "0b1d08ed",
   "metadata": {},
   "outputs": [],
   "source": [
    "#influencer_data.head()"
   ]
  },
  {
   "cell_type": "code",
   "execution_count": 17,
   "id": "2b027937",
   "metadata": {},
   "outputs": [],
   "source": [
    "#export the data set\n",
    "#influencer_data.to_csv(r'D:\\influencer_data.csv',index=False, header=True)"
   ]
  },
  {
   "cell_type": "markdown",
   "id": "c000d8e2",
   "metadata": {},
   "source": [
    "### Step 2: Create functions to extract texts and features"
   ]
  },
  {
   "cell_type": "code",
   "execution_count": 35,
   "id": "cda03474",
   "metadata": {},
   "outputs": [],
   "source": [
    "import pandas as pd\n",
    "import os\n",
    "import json"
   ]
  },
  {
   "cell_type": "code",
   "execution_count": 36,
   "id": "30a85440",
   "metadata": {},
   "outputs": [],
   "source": [
    "#path = '/Volumes/Untitled/Post metadata (JSON files)/Post metadata (JSON files)/info/'\n",
    "#filename = 'ciararaemusic-2015115584988252518.info'\n",
    "#f = open(path+filename, \"r\").read()\n",
    "#f"
   ]
  },
  {
   "cell_type": "code",
   "execution_count": 37,
   "id": "e03824b3",
   "metadata": {},
   "outputs": [],
   "source": [
    "#text = json.loads(f)\n",
    "#for key, values in text.items():\n",
    "#    print(key)\n",
    "#    print(values)\n",
    "#    print()"
   ]
  },
  {
   "cell_type": "code",
   "execution_count": 38,
   "id": "e60fc914",
   "metadata": {},
   "outputs": [],
   "source": [
    "#text['edge_media_to_tagged_user']"
   ]
  },
  {
   "cell_type": "code",
   "execution_count": 39,
   "id": "6a2f7e07",
   "metadata": {},
   "outputs": [],
   "source": [
    "#[text['edge_media_to_parent_comment']['edges'][i]['node']['text'] for i in range (len(text['edge_media_to_parent_comment']['edges']))]"
   ]
  },
  {
   "cell_type": "code",
   "execution_count": 190,
   "id": "99def780",
   "metadata": {},
   "outputs": [],
   "source": [
    "def comment_count(text):\n",
    "    try:\n",
    "        result = text['edge_media_to_parent_comment']['count']\n",
    "    except:\n",
    "        result = 0\n",
    "    return result"
   ]
  },
  {
   "cell_type": "code",
   "execution_count": 41,
   "id": "e608f041",
   "metadata": {},
   "outputs": [],
   "source": [
    "def comment(text):\n",
    "    try:\n",
    "        edges = text['edge_media_to_parent_comment']['edges']\n",
    "        result = [edges[i]['node']['text'] for i in range (len(edges))]\n",
    "    except:\n",
    "        result = np.NaN\n",
    "    return result"
   ]
  },
  {
   "cell_type": "code",
   "execution_count": 42,
   "id": "746faae0",
   "metadata": {},
   "outputs": [],
   "source": [
    "#comment(text)"
   ]
  },
  {
   "cell_type": "code",
   "execution_count": 43,
   "id": "c15553e2",
   "metadata": {},
   "outputs": [],
   "source": [
    "#Extract counts of tagged users - similar to mentions\n",
    "def count_tags(text):\n",
    "    try:\n",
    "        result = len(text['edge_media_to_tagged_user']['edges'])\n",
    "    except:\n",
    "        result = np.NaN\n",
    "    return result"
   ]
  },
  {
   "cell_type": "code",
   "execution_count": 44,
   "id": "d71b5363",
   "metadata": {},
   "outputs": [],
   "source": [
    "#count_tags(text)"
   ]
  },
  {
   "cell_type": "code",
   "execution_count": 45,
   "id": "ccb4fe86",
   "metadata": {},
   "outputs": [],
   "source": [
    "def verified_tags(text):\n",
    "    try:\n",
    "        edge = text['edge_media_to_tagged_user']['edges']\n",
    "        result = sum([edge[i]['node']['user']['is_verified'] for i in range(len(edge))])\n",
    "    except:\n",
    "        result = np.NaN\n",
    "    return result"
   ]
  },
  {
   "cell_type": "code",
   "execution_count": 46,
   "id": "310509f1",
   "metadata": {},
   "outputs": [],
   "source": [
    "#verified_tags(text)"
   ]
  },
  {
   "cell_type": "code",
   "execution_count": 47,
   "id": "84386b30",
   "metadata": {},
   "outputs": [],
   "source": [
    "#edge = text['edge_media_to_tagged_user']['edges']\n",
    "# edge[0]['node']['user']['is_verified']\n",
    "#sum([edge[i]['node']['user']['is_verified'] for i in range(len(edge))])"
   ]
  },
  {
   "cell_type": "code",
   "execution_count": 48,
   "id": "59f9b19c",
   "metadata": {},
   "outputs": [],
   "source": [
    "#Extract username\n",
    "def username(text):\n",
    "    return text['owner']['username']"
   ]
  },
  {
   "cell_type": "code",
   "execution_count": 49,
   "id": "e5111c59",
   "metadata": {},
   "outputs": [],
   "source": [
    "#username(text)"
   ]
  },
  {
   "cell_type": "code",
   "execution_count": 50,
   "id": "cc8532ce",
   "metadata": {},
   "outputs": [],
   "source": [
    "#Extract likes\n",
    "def likes(text):\n",
    "    try:\n",
    "        result = text['edge_media_preview_like']['count']\n",
    "    except:\n",
    "        result = np.NaN\n",
    "    return result"
   ]
  },
  {
   "cell_type": "code",
   "execution_count": 51,
   "id": "38b3e71f",
   "metadata": {},
   "outputs": [],
   "source": [
    "#likes(text)"
   ]
  },
  {
   "cell_type": "code",
   "execution_count": 52,
   "id": "0c58fa64",
   "metadata": {},
   "outputs": [],
   "source": [
    "def caption(text):\n",
    "    try:\n",
    "        result = text['edge_media_to_caption']['edges'][0]['node']['text']\n",
    "    except:\n",
    "        result = np.NaN\n",
    "    return result"
   ]
  },
  {
   "cell_type": "code",
   "execution_count": 53,
   "id": "aa783374",
   "metadata": {},
   "outputs": [],
   "source": [
    "#caption = caption(text)\n",
    "#caption"
   ]
  },
  {
   "cell_type": "code",
   "execution_count": 54,
   "id": "884480ff",
   "metadata": {},
   "outputs": [],
   "source": [
    "#export the data set\n",
    "#dfs10.to_csv('/Users/lamga/OneDrive/IOD Lessons/Projects/Extract IG influencer dataset/dfs100ex.csv',index=False, header=True)"
   ]
  },
  {
   "cell_type": "markdown",
   "id": "24075c05",
   "metadata": {},
   "source": [
    "### Step 2-1: Apply features and text extraction on each posts"
   ]
  },
  {
   "cell_type": "code",
   "execution_count": 23,
   "id": "6067b76b",
   "metadata": {},
   "outputs": [],
   "source": [
    "#spark100 = pd.read_parquet(\"/Users/lamga/OneDrive/IOD Lessons/Projects/Extract IG influencer dataset/From Ryan/dfs100.parquet\")"
   ]
  },
  {
   "cell_type": "code",
   "execution_count": 209,
   "id": "c1045a99",
   "metadata": {},
   "outputs": [],
   "source": [
    "#spark100.head()"
   ]
  },
  {
   "cell_type": "code",
   "execution_count": 93,
   "id": "e4fc52d2",
   "metadata": {},
   "outputs": [],
   "source": [
    "dfs10 = pd.read_csv('/Users/lamga/OneDrive/IOD Lessons/Projects/Extract IG influencer dataset/dfs10drop.csv')"
   ]
  },
  {
   "cell_type": "code",
   "execution_count": 94,
   "id": "f8e41cc2",
   "metadata": {},
   "outputs": [
    {
     "data": {
      "text/plain": [
       "(242192, 4)"
      ]
     },
     "execution_count": 94,
     "metadata": {},
     "output_type": "execute_result"
    }
   ],
   "source": [
    "dfs10.shape"
   ]
  },
  {
   "cell_type": "code",
   "execution_count": 95,
   "id": "564e38b1",
   "metadata": {},
   "outputs": [
    {
     "data": {
      "text/html": [
       "<div>\n",
       "<style scoped>\n",
       "    .dataframe tbody tr th:only-of-type {\n",
       "        vertical-align: middle;\n",
       "    }\n",
       "\n",
       "    .dataframe tbody tr th {\n",
       "        vertical-align: top;\n",
       "    }\n",
       "\n",
       "    .dataframe thead th {\n",
       "        text-align: right;\n",
       "    }\n",
       "</style>\n",
       "<table border=\"1\" class=\"dataframe\">\n",
       "  <thead>\n",
       "    <tr style=\"text-align: right;\">\n",
       "      <th></th>\n",
       "      <th>influencer</th>\n",
       "      <th>posts</th>\n",
       "      <th>image</th>\n",
       "      <th>contents</th>\n",
       "    </tr>\n",
       "  </thead>\n",
       "  <tbody>\n",
       "    <tr>\n",
       "      <th>0</th>\n",
       "      <td>00s_supermodels</td>\n",
       "      <td>1958951327024739292.info</td>\n",
       "      <td>['1958950698725328921.jpg', '19589507028022564...</td>\n",
       "      <td>{\"gating_info\": null, \"viewer_can_reshare\": tr...</td>\n",
       "    </tr>\n",
       "    <tr>\n",
       "      <th>1</th>\n",
       "      <td>00s_supermodels</td>\n",
       "      <td>1920139034731094095.info</td>\n",
       "      <td>['1920139034731094095.jpg']</td>\n",
       "      <td>{\"gating_info\": null, \"viewer_can_reshare\": tr...</td>\n",
       "    </tr>\n",
       "    <tr>\n",
       "      <th>2</th>\n",
       "      <td>00s_supermodels</td>\n",
       "      <td>1972039176098647705.info</td>\n",
       "      <td>['1972039176098647705.jpg']</td>\n",
       "      <td>{\"gating_info\": null, \"viewer_can_reshare\": tr...</td>\n",
       "    </tr>\n",
       "    <tr>\n",
       "      <th>3</th>\n",
       "      <td>00s_supermodels</td>\n",
       "      <td>1910085992241632962.info</td>\n",
       "      <td>['1910085220179415841.jpg', '19100852205317717...</td>\n",
       "      <td>{\"gating_info\": null, \"viewer_can_reshare\": tr...</td>\n",
       "    </tr>\n",
       "    <tr>\n",
       "      <th>4</th>\n",
       "      <td>00s_supermodels</td>\n",
       "      <td>1921244054184528243.info</td>\n",
       "      <td>['1921244032357699082.jpg', '19212440325926970...</td>\n",
       "      <td>{\"gating_info\": null, \"viewer_can_reshare\": tr...</td>\n",
       "    </tr>\n",
       "  </tbody>\n",
       "</table>\n",
       "</div>"
      ],
      "text/plain": [
       "        influencer                     posts  \\\n",
       "0  00s_supermodels  1958951327024739292.info   \n",
       "1  00s_supermodels  1920139034731094095.info   \n",
       "2  00s_supermodels  1972039176098647705.info   \n",
       "3  00s_supermodels  1910085992241632962.info   \n",
       "4  00s_supermodels  1921244054184528243.info   \n",
       "\n",
       "                                               image  \\\n",
       "0  ['1958950698725328921.jpg', '19589507028022564...   \n",
       "1                        ['1920139034731094095.jpg']   \n",
       "2                        ['1972039176098647705.jpg']   \n",
       "3  ['1910085220179415841.jpg', '19100852205317717...   \n",
       "4  ['1921244032357699082.jpg', '19212440325926970...   \n",
       "\n",
       "                                            contents  \n",
       "0  {\"gating_info\": null, \"viewer_can_reshare\": tr...  \n",
       "1  {\"gating_info\": null, \"viewer_can_reshare\": tr...  \n",
       "2  {\"gating_info\": null, \"viewer_can_reshare\": tr...  \n",
       "3  {\"gating_info\": null, \"viewer_can_reshare\": tr...  \n",
       "4  {\"gating_info\": null, \"viewer_can_reshare\": tr...  "
      ]
     },
     "execution_count": 95,
     "metadata": {},
     "output_type": "execute_result"
    }
   ],
   "source": [
    "dfs10.head()"
   ]
  },
  {
   "cell_type": "code",
   "execution_count": 92,
   "id": "e1bc33e5",
   "metadata": {},
   "outputs": [],
   "source": [
    "#json.loads(dfs10['contents'].iloc[0])"
   ]
  },
  {
   "cell_type": "code",
   "execution_count": 70,
   "id": "2376a6b8",
   "metadata": {},
   "outputs": [],
   "source": [
    "#dfs10['contents'] = dfs10['contents'].astype('str')"
   ]
  },
  {
   "cell_type": "code",
   "execution_count": 96,
   "id": "d1dd9b4d",
   "metadata": {},
   "outputs": [
    {
     "name": "stdout",
     "output_type": "stream",
     "text": [
      "<class 'pandas.core.frame.DataFrame'>\n",
      "RangeIndex: 242192 entries, 0 to 242191\n",
      "Data columns (total 4 columns):\n",
      " #   Column      Non-Null Count   Dtype \n",
      "---  ------      --------------   ----- \n",
      " 0   influencer  242192 non-null  object\n",
      " 1   posts       242192 non-null  object\n",
      " 2   image       242192 non-null  object\n",
      " 3   contents    242192 non-null  object\n",
      "dtypes: object(4)\n",
      "memory usage: 7.4+ MB\n"
     ]
    }
   ],
   "source": [
    "dfs10.info()"
   ]
  },
  {
   "cell_type": "code",
   "execution_count": 90,
   "id": "776284e9",
   "metadata": {},
   "outputs": [],
   "source": [
    "#use this to identify if there is error in json conversion\n",
    "#for i in range (len(dfs10)):\n",
    "#    try:\n",
    "#        result = json.loads(dfs10['contents'].iloc[i])\n",
    "#    except Exception:\n",
    "#        print (i)\n",
    "#        break"
   ]
  },
  {
   "cell_type": "code",
   "execution_count": 97,
   "id": "9d42e1e6",
   "metadata": {},
   "outputs": [],
   "source": [
    "dfs10['contents'] = dfs10['contents'].apply(json.loads)"
   ]
  },
  {
   "cell_type": "markdown",
   "id": "e3ae40fc",
   "metadata": {},
   "source": [
    "#### 2-1-1 Create captions"
   ]
  },
  {
   "cell_type": "code",
   "execution_count": 100,
   "id": "8bd6e5a7",
   "metadata": {},
   "outputs": [],
   "source": [
    "dfs10['captions'] = dfs10['contents'].apply(caption)"
   ]
  },
  {
   "cell_type": "code",
   "execution_count": 101,
   "id": "872a24b9",
   "metadata": {},
   "outputs": [
    {
     "data": {
      "text/plain": [
       "1736"
      ]
     },
     "execution_count": 101,
     "metadata": {},
     "output_type": "execute_result"
    }
   ],
   "source": [
    "len(dfs10[dfs10['captions'].isna()])"
   ]
  },
  {
   "cell_type": "code",
   "execution_count": 102,
   "id": "43f05a11",
   "metadata": {},
   "outputs": [],
   "source": [
    "#Drop na\n",
    "dfs10.dropna(inplace=True)"
   ]
  },
  {
   "cell_type": "code",
   "execution_count": 103,
   "id": "a51942e6",
   "metadata": {},
   "outputs": [],
   "source": [
    "#clean text\n",
    "\n",
    "def clean_re(text):\n",
    "    text = re.sub('[\\n\\t]', ' ', text) #remove new lines\n",
    "    text = re.sub('@\\w+', '', text) #remove mentions\n",
    "    text = re.sub('[^a-zA-Z0-9 #]', '', text) #remove punctuations and emojis (retain alphanumeric)\n",
    "    text = re.sub('\\s+', ' ', text) #remove excess spaces\n",
    "    return text"
   ]
  },
  {
   "cell_type": "code",
   "execution_count": 104,
   "id": "ddf94980",
   "metadata": {},
   "outputs": [],
   "source": [
    "dfs10['captions'] = dfs10['captions'].apply(clean_re)"
   ]
  },
  {
   "cell_type": "markdown",
   "id": "d0f56f09",
   "metadata": {},
   "source": [
    "#### 2-1-2 Detect language on captions"
   ]
  },
  {
   "cell_type": "code",
   "execution_count": 105,
   "id": "bc385492",
   "metadata": {},
   "outputs": [],
   "source": [
    "from spacy_langdetect import LanguageDetector\n",
    "from spacy.language import Language"
   ]
  },
  {
   "cell_type": "code",
   "execution_count": 106,
   "id": "2eed92bd",
   "metadata": {},
   "outputs": [],
   "source": [
    "import spacy\n",
    "nlp = spacy.load('en_core_web_sm')  # 1"
   ]
  },
  {
   "cell_type": "code",
   "execution_count": 107,
   "id": "fb7118ba",
   "metadata": {},
   "outputs": [],
   "source": [
    "def language_detector(nlp, name):\n",
    "    return LanguageDetector()"
   ]
  },
  {
   "cell_type": "code",
   "execution_count": 108,
   "id": "ae3035de",
   "metadata": {},
   "outputs": [
    {
     "data": {
      "text/plain": [
       "<function __main__.language_detector(nlp, name)>"
      ]
     },
     "execution_count": 108,
     "metadata": {},
     "output_type": "execute_result"
    }
   ],
   "source": [
    "Language.factory(\"language_detector\", func=language_detector)"
   ]
  },
  {
   "cell_type": "code",
   "execution_count": 109,
   "id": "7cc0878b",
   "metadata": {},
   "outputs": [
    {
     "data": {
      "text/plain": [
       "<spacy_langdetect.spacy_langdetect.LanguageDetector at 0x7f84d1e4aaf0>"
      ]
     },
     "execution_count": 109,
     "metadata": {},
     "output_type": "execute_result"
    }
   ],
   "source": [
    "nlp.add_pipe('language_detector', last=True) #2"
   ]
  },
  {
   "cell_type": "code",
   "execution_count": 110,
   "id": "5e919045",
   "metadata": {},
   "outputs": [],
   "source": [
    "def language (text):\n",
    "    doc = nlp(text)\n",
    "    detect_language = doc._.language\n",
    "    return(detect_language)"
   ]
  },
  {
   "cell_type": "code",
   "execution_count": 111,
   "id": "dd68dbb1",
   "metadata": {},
   "outputs": [
    {
     "name": "stdout",
     "output_type": "stream",
     "text": [
      "{'language': 'en', 'score': 0.7142825384900571}\n"
     ]
    }
   ],
   "source": [
    "doc = nlp('spoon fork') #3\n",
    "detect_language = doc._.language #4\n",
    "print(detect_language)"
   ]
  },
  {
   "cell_type": "code",
   "execution_count": 193,
   "id": "431f5d4c",
   "metadata": {},
   "outputs": [],
   "source": [
    "def lang_score(language):\n",
    "    try:\n",
    "        score = language['score']\n",
    "    except:\n",
    "        score = np.NaN\n",
    "    return score"
   ]
  },
  {
   "cell_type": "code",
   "execution_count": 113,
   "id": "b2cc9219",
   "metadata": {},
   "outputs": [
    {
     "data": {
      "text/plain": [
       "{'language': 'en', 'score': 0.5714255329732271}"
      ]
     },
     "execution_count": 113,
     "metadata": {},
     "output_type": "execute_result"
    }
   ],
   "source": [
    "language ('spoon fork')"
   ]
  },
  {
   "cell_type": "code",
   "execution_count": 112,
   "id": "635af1d8",
   "metadata": {},
   "outputs": [
    {
     "data": {
      "text/plain": [
       "'en'"
      ]
     },
     "execution_count": 112,
     "metadata": {},
     "output_type": "execute_result"
    }
   ],
   "source": [
    "detect_language['language']"
   ]
  },
  {
   "cell_type": "code",
   "execution_count": 114,
   "id": "76464890",
   "metadata": {},
   "outputs": [],
   "source": [
    "dfs10['language'] = dfs10['captions'].apply(language)"
   ]
  },
  {
   "cell_type": "code",
   "execution_count": 120,
   "id": "fe110484",
   "metadata": {},
   "outputs": [
    {
     "data": {
      "text/plain": [
       "(240456, 6)"
      ]
     },
     "execution_count": 120,
     "metadata": {},
     "output_type": "execute_result"
    }
   ],
   "source": [
    "dfs10.shape"
   ]
  },
  {
   "cell_type": "code",
   "execution_count": 117,
   "id": "97c6f0d4",
   "metadata": {},
   "outputs": [],
   "source": [
    "#drop posts which is not english\n",
    "dfs10_en = dfs10[dfs10['language'].apply(lambda x : x['language'])=='en']"
   ]
  },
  {
   "cell_type": "code",
   "execution_count": 132,
   "id": "f2b08365",
   "metadata": {},
   "outputs": [],
   "source": [
    "dfs10_en.reset_index(drop=True, inplace=True)"
   ]
  },
  {
   "cell_type": "code",
   "execution_count": 133,
   "id": "c55c4f06",
   "metadata": {},
   "outputs": [
    {
     "data": {
      "text/plain": [
       "(185001, 7)"
      ]
     },
     "execution_count": 133,
     "metadata": {},
     "output_type": "execute_result"
    }
   ],
   "source": [
    "dfs10_en.shape"
   ]
  },
  {
   "cell_type": "code",
   "execution_count": 151,
   "id": "39bf268f",
   "metadata": {},
   "outputs": [
    {
     "name": "stdout",
     "output_type": "stream",
     "text": [
      "<class 'pandas.core.frame.DataFrame'>\n",
      "RangeIndex: 185001 entries, 0 to 185000\n",
      "Data columns (total 8 columns):\n",
      " #   Column          Non-Null Count   Dtype  \n",
      "---  ------          --------------   -----  \n",
      " 0   influencer      185001 non-null  object \n",
      " 1   posts           185001 non-null  object \n",
      " 2   image           185001 non-null  object \n",
      " 3   contents        185001 non-null  object \n",
      " 4   captions        185001 non-null  object \n",
      " 5   language        185001 non-null  object \n",
      " 6   comments        166485 non-null  object \n",
      " 7   comment_counts  166485 non-null  float64\n",
      "dtypes: float64(1), object(7)\n",
      "memory usage: 11.3+ MB\n"
     ]
    }
   ],
   "source": [
    "dfs10_en.info()"
   ]
  },
  {
   "cell_type": "markdown",
   "id": "78e3e2e5",
   "metadata": {},
   "source": [
    "#### 2-1-3 Create engagement metrics (comments, no of comments and likes)"
   ]
  },
  {
   "cell_type": "code",
   "execution_count": 177,
   "id": "b4a5d886",
   "metadata": {},
   "outputs": [],
   "source": [
    "dfs10_en.loc[:,'comments']=dfs10_en.loc[:,'contents'].apply(comment)"
   ]
  },
  {
   "cell_type": "code",
   "execution_count": 191,
   "id": "77edd1d5",
   "metadata": {},
   "outputs": [],
   "source": [
    "dfs10_en.loc[:,'comment_counts'] = dfs10_en.loc[:,'contents'].apply(comment_count)"
   ]
  },
  {
   "cell_type": "code",
   "execution_count": 178,
   "id": "b3812d4f",
   "metadata": {},
   "outputs": [],
   "source": [
    "dfs10_en.loc[:,'likes'] = dfs10_en.loc[:,'contents'].apply(likes)"
   ]
  },
  {
   "cell_type": "code",
   "execution_count": 179,
   "id": "dcc35d84",
   "metadata": {},
   "outputs": [],
   "source": [
    "dfs10_en.loc[:,'count_tags'] = dfs10_en.loc[:,'contents'].apply(count_tags)"
   ]
  },
  {
   "cell_type": "code",
   "execution_count": 180,
   "id": "00d7635f",
   "metadata": {},
   "outputs": [],
   "source": [
    "dfs10_en.loc[:,'verified_tags'] = dfs10_en.loc[:,'contents'].apply(verified_tags)"
   ]
  },
  {
   "cell_type": "code",
   "execution_count": 194,
   "id": "6b292f60",
   "metadata": {},
   "outputs": [],
   "source": [
    "dfs10_en.loc[:,'en_score'] = dfs10_en.loc[:,'language'].apply(lang_score)"
   ]
  },
  {
   "cell_type": "code",
   "execution_count": 201,
   "id": "872bff3b",
   "metadata": {},
   "outputs": [
    {
     "data": {
      "text/plain": [
       "185001"
      ]
     },
     "execution_count": 201,
     "metadata": {},
     "output_type": "execute_result"
    }
   ],
   "source": [
    "#check all english\n",
    "sum(dfs10_en['language'].apply(lambda x: x['language'])== 'en')"
   ]
  },
  {
   "cell_type": "code",
   "execution_count": null,
   "id": "08fdd954",
   "metadata": {},
   "outputs": [],
   "source": [
    "dfs10_en.drop('language',axis=1,inplace=True)"
   ]
  },
  {
   "cell_type": "code",
   "execution_count": 204,
   "id": "6ae37844",
   "metadata": {},
   "outputs": [
    {
     "name": "stdout",
     "output_type": "stream",
     "text": [
      "<class 'pandas.core.frame.DataFrame'>\n",
      "RangeIndex: 185001 entries, 0 to 185000\n",
      "Data columns (total 11 columns):\n",
      " #   Column          Non-Null Count   Dtype  \n",
      "---  ------          --------------   -----  \n",
      " 0   influencer      185001 non-null  object \n",
      " 1   posts           185001 non-null  object \n",
      " 2   image           185001 non-null  object \n",
      " 3   contents        185001 non-null  object \n",
      " 4   captions        185001 non-null  object \n",
      " 5   comment_counts  185001 non-null  int64  \n",
      " 6   comments        166485 non-null  object \n",
      " 7   likes           185001 non-null  int64  \n",
      " 8   count_tags      185001 non-null  int64  \n",
      " 9   verified_tags   185001 non-null  int64  \n",
      " 10  en_score        185001 non-null  float64\n",
      "dtypes: float64(1), int64(4), object(6)\n",
      "memory usage: 15.5+ MB\n"
     ]
    }
   ],
   "source": [
    "dfs10_en.info()"
   ]
  },
  {
   "cell_type": "code",
   "execution_count": 198,
   "id": "6311f3f8",
   "metadata": {},
   "outputs": [],
   "source": [
    "dfs10.to_csv('/Users/lamga/OneDrive/IOD Lessons/Projects/Extract IG influencer dataset/dfs10dropraw.csv',index=False, header=True)"
   ]
  },
  {
   "cell_type": "code",
   "execution_count": 205,
   "id": "969a08a4",
   "metadata": {},
   "outputs": [],
   "source": [
    "dfs10_en.to_csv('/Users/lamga/OneDrive/IOD Lessons/Projects/Extract IG influencer dataset/dfs10en.csv',index=False, header=True)"
   ]
  },
  {
   "cell_type": "markdown",
   "id": "0ac2dd97",
   "metadata": {},
   "source": [
    "### Create dataset by influencer"
   ]
  },
  {
   "cell_type": "code",
   "execution_count": 213,
   "id": "9bd4447b",
   "metadata": {},
   "outputs": [],
   "source": [
    "dfs10_user = dfs10_en.groupby('influencer')['captions'].apply(lambda x: clean_re(' '.join(x))).reset_index()"
   ]
  },
  {
   "cell_type": "code",
   "execution_count": 224,
   "id": "80a5b860",
   "metadata": {},
   "outputs": [
    {
     "data": {
      "text/html": [
       "<div>\n",
       "<style scoped>\n",
       "    .dataframe tbody tr th:only-of-type {\n",
       "        vertical-align: middle;\n",
       "    }\n",
       "\n",
       "    .dataframe tbody tr th {\n",
       "        vertical-align: top;\n",
       "    }\n",
       "\n",
       "    .dataframe thead th {\n",
       "        text-align: right;\n",
       "    }\n",
       "</style>\n",
       "<table border=\"1\" class=\"dataframe\">\n",
       "  <thead>\n",
       "    <tr style=\"text-align: right;\">\n",
       "      <th></th>\n",
       "      <th>influencer</th>\n",
       "      <th>captions</th>\n",
       "    </tr>\n",
       "  </thead>\n",
       "  <tbody>\n",
       "    <tr>\n",
       "      <th>23372</th>\n",
       "      <td>zyda16</td>\n",
       "      <td>lazyweekends#zydacreations#sale #designer east...</td>\n",
       "    </tr>\n",
       "    <tr>\n",
       "      <th>23373</th>\n",
       "      <td>zyndl_lala</td>\n",
       "      <td>The most important thing in life is to know wh...</td>\n",
       "    </tr>\n",
       "  </tbody>\n",
       "</table>\n",
       "</div>"
      ],
      "text/plain": [
       "       influencer                                           captions\n",
       "23372      zyda16  lazyweekends#zydacreations#sale #designer east...\n",
       "23373  zyndl_lala  The most important thing in life is to know wh..."
      ]
     },
     "execution_count": 224,
     "metadata": {},
     "output_type": "execute_result"
    }
   ],
   "source": [
    "dfs10_user.tail(2)"
   ]
  },
  {
   "cell_type": "markdown",
   "id": "09709499",
   "metadata": {},
   "source": [
    "### Create tokens"
   ]
  },
  {
   "cell_type": "code",
   "execution_count": 244,
   "id": "74de171e",
   "metadata": {},
   "outputs": [],
   "source": [
    "def split_hashtags(text):\n",
    "    text = re.sub('(?<=\\S)#',' #', text)\n",
    "    text = re.sub('# ','',text)\n",
    "    return text"
   ]
  },
  {
   "cell_type": "code",
   "execution_count": 245,
   "id": "9cab7953",
   "metadata": {},
   "outputs": [
    {
     "data": {
      "text/plain": [
       "'# # # # # # #santamarianovella #bodylotion #bodywash #AD#sponsored'"
      ]
     },
     "execution_count": 245,
     "metadata": {},
     "output_type": "execute_result"
    }
   ],
   "source": [
    "#Trial\n",
    "text = '# # # # # # #santamarianovella #bodylotion #bodywash #AD#sponsored'\n",
    "text"
   ]
  },
  {
   "cell_type": "code",
   "execution_count": 246,
   "id": "b77dfe62",
   "metadata": {},
   "outputs": [
    {
     "data": {
      "text/plain": [
       "'#santamarianovella #bodylotion #bodywash #AD #sponsored'"
      ]
     },
     "execution_count": 246,
     "metadata": {},
     "output_type": "execute_result"
    }
   ],
   "source": [
    "split_hashtags(text)"
   ]
  },
  {
   "cell_type": "markdown",
   "id": "d2857b7f",
   "metadata": {},
   "source": [
    "Clean caption: stem, lemmatise, remove stopwords, split hashtags"
   ]
  },
  {
   "cell_type": "code",
   "execution_count": 253,
   "id": "36659982",
   "metadata": {},
   "outputs": [],
   "source": [
    "'''\n",
    "Preprocess a string.\n",
    ":parameter\n",
    "    :param text: string - name of column containing text\n",
    "    :param lst_stopwords: list - list of stopwords to remove\n",
    "    :param flg_stemm: bool - whether stemming is to be applied\n",
    "    :param flg_lemm: bool - whether lemmitisation is to be applied\n",
    ":return\n",
    "    cleaned text\n",
    "'''\n",
    "def utils_preprocess_text(text, flg_stemm=False, flg_lemm=True, lst_stopwords=None):\n",
    "    ## clean (convert to lowercase and remove punctuations and characters and then strip)\n",
    "    text = re.sub(r'[^\\w\\s]', '', str(text).lower().strip())\n",
    "            \n",
    "    ## Tokenize (convert from string to list)\n",
    "    lst_text = text.split()\n",
    "    ## remove Stopwords\n",
    "    if lst_stopwords is not None:\n",
    "        lst_text = [word for word in lst_text if word not in \n",
    "                    lst_stopwords]\n",
    "                \n",
    "    ## Stemming (remove -ing, -ly, ...)\n",
    "    if flg_stemm == True:\n",
    "        ps = nltk.stem.porter.PorterStemmer()\n",
    "        lst_text = [ps.stem(word) for word in lst_text]\n",
    "                \n",
    "    ## Lemmatisation (convert the word into root word)\n",
    "    if flg_lemm == True:\n",
    "        lem = nltk.stem.wordnet.WordNetLemmatizer()\n",
    "        lst_text = [lem.lemmatize(word) for word in lst_text]\n",
    "            \n",
    "    ## back to string from list\n",
    "    text = \" \".join(lst_text)\n",
    "    return text"
   ]
  },
  {
   "cell_type": "code",
   "execution_count": 230,
   "id": "51ddb7a0",
   "metadata": {},
   "outputs": [
    {
     "name": "stderr",
     "output_type": "stream",
     "text": [
      "[nltk_data] Downloading package stopwords to /Users/lamga/nltk_data...\n",
      "[nltk_data]   Unzipping corpora/stopwords.zip.\n"
     ]
    },
    {
     "data": {
      "text/plain": [
       "True"
      ]
     },
     "execution_count": 230,
     "metadata": {},
     "output_type": "execute_result"
    }
   ],
   "source": [
    "import nltk\n",
    "from nltk.corpus import stopwords\n",
    "nltk.download('stopwords')"
   ]
  },
  {
   "cell_type": "code",
   "execution_count": 254,
   "id": "28045042",
   "metadata": {},
   "outputs": [
    {
     "name": "stderr",
     "output_type": "stream",
     "text": [
      "[nltk_data] Downloading package wordnet to /Users/lamga/nltk_data...\n",
      "[nltk_data]   Unzipping corpora/wordnet.zip.\n"
     ]
    },
    {
     "data": {
      "text/plain": [
       "True"
      ]
     },
     "execution_count": 254,
     "metadata": {},
     "output_type": "execute_result"
    }
   ],
   "source": [
    "nltk.download('wordnet')"
   ]
  },
  {
   "cell_type": "code",
   "execution_count": 231,
   "id": "a2dfc1c0",
   "metadata": {},
   "outputs": [
    {
     "data": {
      "text/plain": [
       "['i',\n",
       " 'me',\n",
       " 'my',\n",
       " 'myself',\n",
       " 'we',\n",
       " 'our',\n",
       " 'ours',\n",
       " 'ourselves',\n",
       " 'you',\n",
       " \"you're\",\n",
       " \"you've\",\n",
       " \"you'll\",\n",
       " \"you'd\",\n",
       " 'your',\n",
       " 'yours',\n",
       " 'yourself',\n",
       " 'yourselves',\n",
       " 'he',\n",
       " 'him',\n",
       " 'his',\n",
       " 'himself',\n",
       " 'she',\n",
       " \"she's\",\n",
       " 'her',\n",
       " 'hers',\n",
       " 'herself',\n",
       " 'it',\n",
       " \"it's\",\n",
       " 'its',\n",
       " 'itself',\n",
       " 'they',\n",
       " 'them',\n",
       " 'their',\n",
       " 'theirs',\n",
       " 'themselves',\n",
       " 'what',\n",
       " 'which',\n",
       " 'who',\n",
       " 'whom',\n",
       " 'this',\n",
       " 'that',\n",
       " \"that'll\",\n",
       " 'these',\n",
       " 'those',\n",
       " 'am',\n",
       " 'is',\n",
       " 'are',\n",
       " 'was',\n",
       " 'were',\n",
       " 'be',\n",
       " 'been',\n",
       " 'being',\n",
       " 'have',\n",
       " 'has',\n",
       " 'had',\n",
       " 'having',\n",
       " 'do',\n",
       " 'does',\n",
       " 'did',\n",
       " 'doing',\n",
       " 'a',\n",
       " 'an',\n",
       " 'the',\n",
       " 'and',\n",
       " 'but',\n",
       " 'if',\n",
       " 'or',\n",
       " 'because',\n",
       " 'as',\n",
       " 'until',\n",
       " 'while',\n",
       " 'of',\n",
       " 'at',\n",
       " 'by',\n",
       " 'for',\n",
       " 'with',\n",
       " 'about',\n",
       " 'against',\n",
       " 'between',\n",
       " 'into',\n",
       " 'through',\n",
       " 'during',\n",
       " 'before',\n",
       " 'after',\n",
       " 'above',\n",
       " 'below',\n",
       " 'to',\n",
       " 'from',\n",
       " 'up',\n",
       " 'down',\n",
       " 'in',\n",
       " 'out',\n",
       " 'on',\n",
       " 'off',\n",
       " 'over',\n",
       " 'under',\n",
       " 'again',\n",
       " 'further',\n",
       " 'then',\n",
       " 'once',\n",
       " 'here',\n",
       " 'there',\n",
       " 'when',\n",
       " 'where',\n",
       " 'why',\n",
       " 'how',\n",
       " 'all',\n",
       " 'any',\n",
       " 'both',\n",
       " 'each',\n",
       " 'few',\n",
       " 'more',\n",
       " 'most',\n",
       " 'other',\n",
       " 'some',\n",
       " 'such',\n",
       " 'no',\n",
       " 'nor',\n",
       " 'not',\n",
       " 'only',\n",
       " 'own',\n",
       " 'same',\n",
       " 'so',\n",
       " 'than',\n",
       " 'too',\n",
       " 'very',\n",
       " 's',\n",
       " 't',\n",
       " 'can',\n",
       " 'will',\n",
       " 'just',\n",
       " 'don',\n",
       " \"don't\",\n",
       " 'should',\n",
       " \"should've\",\n",
       " 'now',\n",
       " 'd',\n",
       " 'll',\n",
       " 'm',\n",
       " 'o',\n",
       " 're',\n",
       " 've',\n",
       " 'y',\n",
       " 'ain',\n",
       " 'aren',\n",
       " \"aren't\",\n",
       " 'couldn',\n",
       " \"couldn't\",\n",
       " 'didn',\n",
       " \"didn't\",\n",
       " 'doesn',\n",
       " \"doesn't\",\n",
       " 'hadn',\n",
       " \"hadn't\",\n",
       " 'hasn',\n",
       " \"hasn't\",\n",
       " 'haven',\n",
       " \"haven't\",\n",
       " 'isn',\n",
       " \"isn't\",\n",
       " 'ma',\n",
       " 'mightn',\n",
       " \"mightn't\",\n",
       " 'mustn',\n",
       " \"mustn't\",\n",
       " 'needn',\n",
       " \"needn't\",\n",
       " 'shan',\n",
       " \"shan't\",\n",
       " 'shouldn',\n",
       " \"shouldn't\",\n",
       " 'wasn',\n",
       " \"wasn't\",\n",
       " 'weren',\n",
       " \"weren't\",\n",
       " 'won',\n",
       " \"won't\",\n",
       " 'wouldn',\n",
       " \"wouldn't\"]"
      ]
     },
     "execution_count": 231,
     "metadata": {},
     "output_type": "execute_result"
    }
   ],
   "source": [
    "lst_stopwords = stopwords.words(\"english\")\n",
    "lst_stopwords"
   ]
  },
  {
   "cell_type": "code",
   "execution_count": 264,
   "id": "18c80791",
   "metadata": {},
   "outputs": [],
   "source": [
    "text = dfs10_user.loc[1, 'captions']"
   ]
  },
  {
   "cell_type": "code",
   "execution_count": 265,
   "id": "d4ca7eb1",
   "metadata": {},
   "outputs": [
    {
     "data": {
      "text/plain": [
       "' # # # # # Eternal Beauty # # # estinaofficial # #ROSEMONT ## #### # # # # ### # # # # # # #santamarianovella #bodylotion #bodywash #AD #sponsored #CococapitanxJillstuartnewyork #cocoswift #jillstuartsport '"
      ]
     },
     "execution_count": 265,
     "metadata": {},
     "output_type": "execute_result"
    }
   ],
   "source": [
    "text"
   ]
  },
  {
   "cell_type": "code",
   "execution_count": 266,
   "id": "5ff3a727",
   "metadata": {},
   "outputs": [
    {
     "data": {
      "text/plain": [
       "'eternal beauty estinaofficial rosemont santamarianovella bodylotion bodywash ad sponsored cococapitanxjillstuartnewyork cocoswift jillstuartsport'"
      ]
     },
     "execution_count": 266,
     "metadata": {},
     "output_type": "execute_result"
    }
   ],
   "source": [
    "utils_preprocess_text(text)"
   ]
  },
  {
   "cell_type": "markdown",
   "id": "fee568ee",
   "metadata": {},
   "source": [
    "### Create variant of captions by user and posts - no_hashtag and only_hashtag"
   ]
  },
  {
   "cell_type": "code",
   "execution_count": 269,
   "id": "de704ddb",
   "metadata": {},
   "outputs": [],
   "source": [
    "def no_hashtag(text):\n",
    "    text = text.replace(r'#\\S+','')\n",
    "    text = text.replace(r'\\s+',' ')\n",
    "    return text"
   ]
  },
  {
   "cell_type": "code",
   "execution_count": 312,
   "id": "a16c1759",
   "metadata": {},
   "outputs": [],
   "source": [
    "def hashtag(text):\n",
    "    text = split_hashtags(text)\n",
    "    text = re.findall(r'#\\S+',text)\n",
    "    text = ' '.join(word for idx, word in enumerate(text))\n",
    "    return text"
   ]
  },
  {
   "cell_type": "code",
   "execution_count": 313,
   "id": "175c56fe",
   "metadata": {},
   "outputs": [
    {
     "data": {
      "text/plain": [
       "' # # # # # Eternal Beauty # # # estinaofficial # #ROSEMONT ## #### # # # # ### # # # # # # #santamarianovella #bodylotion #bodywash #AD #sponsored #CococapitanxJillstuartnewyork #cocoswift #jillstuartsport '"
      ]
     },
     "execution_count": 313,
     "metadata": {},
     "output_type": "execute_result"
    }
   ],
   "source": [
    "#trial\n",
    "text"
   ]
  },
  {
   "cell_type": "code",
   "execution_count": 314,
   "id": "c289b555",
   "metadata": {},
   "outputs": [
    {
     "data": {
      "text/plain": [
       "'#ROSEMONT #santamarianovella #bodylotion #bodywash #AD #sponsored #CococapitanxJillstuartnewyork #cocoswift #jillstuartsport'"
      ]
     },
     "execution_count": 314,
     "metadata": {},
     "output_type": "execute_result"
    }
   ],
   "source": [
    "#trial\n",
    "hashtag(text)"
   ]
  },
  {
   "cell_type": "code",
   "execution_count": 267,
   "id": "70b220d3",
   "metadata": {},
   "outputs": [],
   "source": [
    "dfs10_user.loc[:,'tokens'] = dfs10_user.loc[:,'captions'].apply(split_hashtags).apply(utils_preprocess_text)"
   ]
  },
  {
   "cell_type": "code",
   "execution_count": 270,
   "id": "6f08a439",
   "metadata": {},
   "outputs": [],
   "source": [
    "dfs10_user.loc[:,'no_hashtag'] = dfs10_user.loc[:,'captions'].apply(no_hashtag)"
   ]
  },
  {
   "cell_type": "code",
   "execution_count": 315,
   "id": "7b35b872",
   "metadata": {},
   "outputs": [],
   "source": [
    "dfs10_user.loc[:,'hashtag'] = dfs10_user.loc[:,'captions'].apply(hashtag)"
   ]
  },
  {
   "cell_type": "code",
   "execution_count": 328,
   "id": "70c4e07a",
   "metadata": {},
   "outputs": [
    {
     "name": "stderr",
     "output_type": "stream",
     "text": [
      "/opt/anaconda3/envs/nlp21v0/lib/python3.8/site-packages/pandas/core/indexing.py:1597: SettingWithCopyWarning: \n",
      "A value is trying to be set on a copy of a slice from a DataFrame.\n",
      "Try using .loc[row_indexer,col_indexer] = value instead\n",
      "\n",
      "See the caveats in the documentation: https://pandas.pydata.org/pandas-docs/stable/user_guide/indexing.html#returning-a-view-versus-a-copy\n",
      "  self.obj[key] = value\n",
      "/opt/anaconda3/envs/nlp21v0/lib/python3.8/site-packages/pandas/core/indexing.py:1676: SettingWithCopyWarning: \n",
      "A value is trying to be set on a copy of a slice from a DataFrame.\n",
      "Try using .loc[row_indexer,col_indexer] = value instead\n",
      "\n",
      "See the caveats in the documentation: https://pandas.pydata.org/pandas-docs/stable/user_guide/indexing.html#returning-a-view-versus-a-copy\n",
      "  self._setitem_single_column(ilocs[0], value, pi)\n"
     ]
    }
   ],
   "source": [
    "dfs10_en.loc[:,'tokens'] = dfs10_en.loc[:,'captions'].apply(split_hashtags).apply(utils_preprocess_text)\n",
    "dfs10_en.loc[:,'no_hashtag'] = dfs10_en.loc[:,'captions'].apply(no_hashtag)\n",
    "dfs10_en.loc[:,'hashtag'] = dfs10_en.loc[:,'captions'].apply(hashtag)"
   ]
  },
  {
   "cell_type": "markdown",
   "id": "34ce3537",
   "metadata": {},
   "source": [
    "### Clean up comments and convert emoji to words "
   ]
  },
  {
   "cell_type": "code",
   "execution_count": 377,
   "id": "e7241def",
   "metadata": {},
   "outputs": [
    {
     "data": {
      "text/plain": [
       "'Beautiful 🌸💮💮🌺🌺🌻🌻🌷❤👏😍 (¬‿¬) 👏🏼 👏 👏 👏 👏👌 Absolutely! Love your style! 💥'"
      ]
     },
     "execution_count": 377,
     "metadata": {},
     "output_type": "execute_result"
    }
   ],
   "source": [
    "text = dfs10_en['comments'].iloc[30]\n",
    "' '.join(word for idx, word in enumerate(text))"
   ]
  },
  {
   "cell_type": "code",
   "execution_count": 379,
   "id": "5e019bf6",
   "metadata": {},
   "outputs": [
    {
     "name": "stdout",
     "output_type": "stream",
     "text": [
      "9\n"
     ]
    }
   ],
   "source": [
    "for i in range(len(dfs10_en)):\n",
    "    try:\n",
    "        text = dfs10_en['comments'].iloc[i]\n",
    "        text = ' '.join(word for idx, word in enumerate(text))\n",
    "    except:\n",
    "        print(i)\n",
    "        break"
   ]
  },
  {
   "cell_type": "code",
   "execution_count": 418,
   "id": "98b026fc",
   "metadata": {},
   "outputs": [],
   "source": [
    "row = dfs10_en[dfs10_en['comments']==''].index.to_list()"
   ]
  },
  {
   "cell_type": "code",
   "execution_count": 360,
   "id": "0e095d47",
   "metadata": {},
   "outputs": [],
   "source": [
    "import emot\n",
    "from emot.emo_unicode import UNICODE_EMOJI"
   ]
  },
  {
   "cell_type": "code",
   "execution_count": 366,
   "id": "ed2c8a59",
   "metadata": {},
   "outputs": [
    {
     "data": {
      "text/plain": [
       "'Hilarious face_with_tears_of_joy. The feeling of making a sale smiling_face_with_sunglasses, The feeling of actually fulfilling orders unamused_face'"
      ]
     },
     "execution_count": 366,
     "metadata": {},
     "output_type": "execute_result"
    }
   ],
   "source": [
    "# Function for converting emojis into word\n",
    "def convert_emojis(text):\n",
    "    for emot in UNICODE_EMOJI:\n",
    "        text = text.replace(emot, \"_\".join(UNICODE_EMOJI[emot].replace(\",\",\"\").replace(\":\",\"\").split()))\n",
    "    return text\n",
    "# Example\n",
    "text1 = \"Hilarious 😂. The feeling of making a sale 😎, The feeling of actually fulfilling orders 😒\"\n",
    "convert_emojis(text1)"
   ]
  },
  {
   "cell_type": "code",
   "execution_count": 421,
   "id": "cf2158e7",
   "metadata": {},
   "outputs": [
    {
     "name": "stderr",
     "output_type": "stream",
     "text": [
      "<ipython-input-421-acd887c61f0e>:1: SettingWithCopyWarning: \n",
      "A value is trying to be set on a copy of a slice from a DataFrame.\n",
      "Try using .loc[row_indexer,col_indexer] = value instead\n",
      "\n",
      "See the caveats in the documentation: https://pandas.pydata.org/pandas-docs/stable/user_guide/indexing.html#returning-a-view-versus-a-copy\n",
      "  dfs10_en['comments']=dfs10_en['comments'].apply(lambda text:' '.join(word for idx, word in enumerate(text)))\n"
     ]
    }
   ],
   "source": [
    "dfs10_en['comments']=dfs10_en['comments'].apply(lambda text:' '.join(word for idx, word in enumerate(text)))"
   ]
  },
  {
   "cell_type": "code",
   "execution_count": 423,
   "id": "881fb133",
   "metadata": {},
   "outputs": [
    {
     "name": "stderr",
     "output_type": "stream",
     "text": [
      "<ipython-input-423-fc4b3a5355cd>:1: SettingWithCopyWarning: \n",
      "A value is trying to be set on a copy of a slice from a DataFrame.\n",
      "Try using .loc[row_indexer,col_indexer] = value instead\n",
      "\n",
      "See the caveats in the documentation: https://pandas.pydata.org/pandas-docs/stable/user_guide/indexing.html#returning-a-view-versus-a-copy\n",
      "  dfs10_en['comments']=dfs10_en['comments'].apply(convert_emojis)\n"
     ]
    }
   ],
   "source": [
    "dfs10_en['comments']=dfs10_en['comments'].apply(convert_emojis)"
   ]
  },
  {
   "cell_type": "code",
   "execution_count": 426,
   "id": "1ef89de3",
   "metadata": {},
   "outputs": [
    {
     "name": "stderr",
     "output_type": "stream",
     "text": [
      "/opt/anaconda3/envs/nlp21v0/lib/python3.8/site-packages/pandas/core/indexing.py:1676: SettingWithCopyWarning: \n",
      "A value is trying to be set on a copy of a slice from a DataFrame.\n",
      "Try using .loc[row_indexer,col_indexer] = value instead\n",
      "\n",
      "See the caveats in the documentation: https://pandas.pydata.org/pandas-docs/stable/user_guide/indexing.html#returning-a-view-versus-a-copy\n",
      "  self._setitem_single_column(ilocs[0], value, pi)\n"
     ]
    }
   ],
   "source": [
    "dfs10_en.loc[:,'comments'] = dfs10_en.loc[:,'comments'].apply(utils_preprocess_text)"
   ]
  },
  {
   "cell_type": "code",
   "execution_count": 436,
   "id": "87d0d288",
   "metadata": {},
   "outputs": [
    {
     "name": "stderr",
     "output_type": "stream",
     "text": [
      "/opt/anaconda3/envs/nlp21v0/lib/python3.8/site-packages/pandas/core/indexing.py:1676: SettingWithCopyWarning: \n",
      "A value is trying to be set on a copy of a slice from a DataFrame.\n",
      "Try using .loc[row_indexer,col_indexer] = value instead\n",
      "\n",
      "See the caveats in the documentation: https://pandas.pydata.org/pandas-docs/stable/user_guide/indexing.html#returning-a-view-versus-a-copy\n",
      "  self._setitem_single_column(ilocs[0], value, pi)\n"
     ]
    }
   ],
   "source": [
    "#remove underscore\n",
    "dfs10_en.loc[:,'comments'] = dfs10_en.loc[:,'comments'].apply(lambda x: re.sub('_',' ',x))"
   ]
  },
  {
   "cell_type": "markdown",
   "id": "d14fb0b1",
   "metadata": {},
   "source": [
    "### Sentiment analysis on comments"
   ]
  },
  {
   "cell_type": "code",
   "execution_count": 438,
   "id": "4a5ab26b",
   "metadata": {},
   "outputs": [
    {
     "name": "stderr",
     "output_type": "stream",
     "text": [
      "[nltk_data] Downloading package vader_lexicon to\n",
      "[nltk_data]     /Users/lamga/nltk_data...\n"
     ]
    }
   ],
   "source": [
    "import nltk\n",
    "nltk.download('vader_lexicon')\n",
    "from nltk.sentiment import SentimentIntensityAnalyzer\n",
    "sia = SentimentIntensityAnalyzer()"
   ]
  },
  {
   "cell_type": "code",
   "execution_count": 439,
   "id": "9c82d7b0",
   "metadata": {},
   "outputs": [],
   "source": [
    "def sentiment(text):\n",
    "    return sia.polarity_scores(text)[\"compound\"]"
   ]
  },
  {
   "cell_type": "code",
   "execution_count": 446,
   "id": "d5fecf08",
   "metadata": {},
   "outputs": [
    {
     "name": "stdout",
     "output_type": "stream",
     "text": [
      "two heartsrevolving heartstwo hearts wow smiling face with hearteyes\n"
     ]
    },
    {
     "data": {
      "text/plain": [
       "0.7783"
      ]
     },
     "execution_count": 446,
     "metadata": {},
     "output_type": "execute_result"
    }
   ],
   "source": [
    "#Trial\n",
    "text = dfs10_en['comments'].iloc[3]\n",
    "print(text)\n",
    "sentiment(text)"
   ]
  },
  {
   "cell_type": "code",
   "execution_count": 447,
   "id": "e6bfb82d",
   "metadata": {},
   "outputs": [
    {
     "name": "stderr",
     "output_type": "stream",
     "text": [
      "/opt/anaconda3/envs/nlp21v0/lib/python3.8/site-packages/pandas/core/indexing.py:1597: SettingWithCopyWarning: \n",
      "A value is trying to be set on a copy of a slice from a DataFrame.\n",
      "Try using .loc[row_indexer,col_indexer] = value instead\n",
      "\n",
      "See the caveats in the documentation: https://pandas.pydata.org/pandas-docs/stable/user_guide/indexing.html#returning-a-view-versus-a-copy\n",
      "  self.obj[key] = value\n"
     ]
    }
   ],
   "source": [
    "dfs10_en.loc[:,'sentiment'] = dfs10_en.loc[:,'comments'].apply(sentiment)"
   ]
  },
  {
   "cell_type": "markdown",
   "id": "ff1c2a83",
   "metadata": {},
   "source": [
    "### Add user categories"
   ]
  },
  {
   "cell_type": "code",
   "execution_count": 277,
   "id": "4466bc6a",
   "metadata": {},
   "outputs": [],
   "source": [
    "influencer_data = pd.read_csv('/Users/lamga/OneDrive/IOD Lessons/Projects/Extract IG influencer dataset/influencer_data_rev.csv')"
   ]
  },
  {
   "cell_type": "code",
   "execution_count": 282,
   "id": "372da3b0",
   "metadata": {},
   "outputs": [],
   "source": [
    "influencer_data.set_index('Username',inplace=True)"
   ]
  },
  {
   "cell_type": "code",
   "execution_count": 287,
   "id": "17c79a5c",
   "metadata": {},
   "outputs": [
    {
     "data": {
      "text/plain": [
       "Username\n",
       "00s_supermodels        fashion\n",
       "0720_b                 fashion\n",
       "0821_me                   food\n",
       "1000manerasdevestir    fashion\n",
       "100pintas               family\n",
       "                        ...   \n",
       "zurihall               fashion\n",
       "zuzanastraska          fashion\n",
       "zwithlove              fashion\n",
       "zyda16                 fashion\n",
       "zyndl_lala              beauty\n",
       "Name: Category, Length: 23374, dtype: object"
      ]
     },
     "execution_count": 287,
     "metadata": {},
     "output_type": "execute_result"
    }
   ],
   "source": [
    "influencer_data.loc[dfs10_user.influencer.to_list(), 'Category']"
   ]
  },
  {
   "cell_type": "code",
   "execution_count": 285,
   "id": "02767cea",
   "metadata": {},
   "outputs": [
    {
     "data": {
      "text/html": [
       "<div>\n",
       "<style scoped>\n",
       "    .dataframe tbody tr th:only-of-type {\n",
       "        vertical-align: middle;\n",
       "    }\n",
       "\n",
       "    .dataframe tbody tr th {\n",
       "        vertical-align: top;\n",
       "    }\n",
       "\n",
       "    .dataframe thead th {\n",
       "        text-align: right;\n",
       "    }\n",
       "</style>\n",
       "<table border=\"1\" class=\"dataframe\">\n",
       "  <thead>\n",
       "    <tr style=\"text-align: right;\">\n",
       "      <th></th>\n",
       "      <th>Category</th>\n",
       "      <th>#Followers</th>\n",
       "      <th>#Followees</th>\n",
       "      <th>#Posts</th>\n",
       "      <th>tier</th>\n",
       "    </tr>\n",
       "    <tr>\n",
       "      <th>Username</th>\n",
       "      <th></th>\n",
       "      <th></th>\n",
       "      <th></th>\n",
       "      <th></th>\n",
       "      <th></th>\n",
       "    </tr>\n",
       "  </thead>\n",
       "  <tbody>\n",
       "    <tr>\n",
       "      <th>makeupbynvs</th>\n",
       "      <td>beauty</td>\n",
       "      <td>1432.0</td>\n",
       "      <td>1089.0</td>\n",
       "      <td>363.0</td>\n",
       "      <td>Nano</td>\n",
       "    </tr>\n",
       "    <tr>\n",
       "      <th>jaquelinevandoski</th>\n",
       "      <td>beauty</td>\n",
       "      <td>137600.0</td>\n",
       "      <td>548.0</td>\n",
       "      <td>569.0</td>\n",
       "      <td>Mid-tier</td>\n",
       "    </tr>\n",
       "    <tr>\n",
       "      <th>anisaartistry</th>\n",
       "      <td>beauty</td>\n",
       "      <td>64644.0</td>\n",
       "      <td>289.0</td>\n",
       "      <td>391.0</td>\n",
       "      <td>Mid-tier</td>\n",
       "    </tr>\n",
       "    <tr>\n",
       "      <th>rubina_muartistry</th>\n",
       "      <td>beauty</td>\n",
       "      <td>496406.0</td>\n",
       "      <td>742.0</td>\n",
       "      <td>887.0</td>\n",
       "      <td>Mid-tier</td>\n",
       "    </tr>\n",
       "    <tr>\n",
       "      <th>beautyxabbi</th>\n",
       "      <td>beauty</td>\n",
       "      <td>2050.0</td>\n",
       "      <td>1423.0</td>\n",
       "      <td>751.0</td>\n",
       "      <td>Nano</td>\n",
       "    </tr>\n",
       "  </tbody>\n",
       "</table>\n",
       "</div>"
      ],
      "text/plain": [
       "                  Category  #Followers  #Followees  #Posts      tier\n",
       "Username                                                            \n",
       "makeupbynvs         beauty      1432.0      1089.0   363.0      Nano\n",
       "jaquelinevandoski   beauty    137600.0       548.0   569.0  Mid-tier\n",
       "anisaartistry       beauty     64644.0       289.0   391.0  Mid-tier\n",
       "rubina_muartistry   beauty    496406.0       742.0   887.0  Mid-tier\n",
       "beautyxabbi         beauty      2050.0      1423.0   751.0      Nano"
      ]
     },
     "execution_count": 285,
     "metadata": {},
     "output_type": "execute_result"
    }
   ],
   "source": [
    "influencer_data.head()"
   ]
  },
  {
   "cell_type": "code",
   "execution_count": 294,
   "id": "1710990d",
   "metadata": {},
   "outputs": [],
   "source": [
    "dfs10_user.loc[:,'Category'] = influencer_data.loc[dfs10_user.influencer.to_list(), 'Category'].to_list()"
   ]
  },
  {
   "cell_type": "code",
   "execution_count": 297,
   "id": "74c7298a",
   "metadata": {},
   "outputs": [],
   "source": [
    "dfs10_user.loc[:,'tier'] = influencer_data.loc[dfs10_user.influencer.to_list(), 'tier'].to_list()"
   ]
  },
  {
   "cell_type": "code",
   "execution_count": 298,
   "id": "a93fa941",
   "metadata": {},
   "outputs": [
    {
     "data": {
      "text/plain": [
       "23374"
      ]
     },
     "execution_count": 298,
     "metadata": {},
     "output_type": "execute_result"
    }
   ],
   "source": [
    "len(dfs10_user)"
   ]
  },
  {
   "cell_type": "code",
   "execution_count": 316,
   "id": "571884b0",
   "metadata": {},
   "outputs": [
    {
     "data": {
      "text/html": [
       "<div>\n",
       "<style scoped>\n",
       "    .dataframe tbody tr th:only-of-type {\n",
       "        vertical-align: middle;\n",
       "    }\n",
       "\n",
       "    .dataframe tbody tr th {\n",
       "        vertical-align: top;\n",
       "    }\n",
       "\n",
       "    .dataframe thead th {\n",
       "        text-align: right;\n",
       "    }\n",
       "</style>\n",
       "<table border=\"1\" class=\"dataframe\">\n",
       "  <thead>\n",
       "    <tr style=\"text-align: right;\">\n",
       "      <th></th>\n",
       "      <th>0</th>\n",
       "      <th>1</th>\n",
       "      <th>2</th>\n",
       "      <th>3</th>\n",
       "      <th>4</th>\n",
       "    </tr>\n",
       "  </thead>\n",
       "  <tbody>\n",
       "    <tr>\n",
       "      <th>influencer</th>\n",
       "      <td>00s_supermodels</td>\n",
       "      <td>0720_b</td>\n",
       "      <td>0821_me</td>\n",
       "      <td>1000manerasdevestir</td>\n",
       "      <td>100pintas</td>\n",
       "    </tr>\n",
       "    <tr>\n",
       "      <th>captions</th>\n",
       "      <td>#FashionEditorial Scan By Me #IngaSavits for E...</td>\n",
       "      <td># # # # # Eternal Beauty # # # estinaofficial...</td>\n",
       "      <td>X 30 httpwwwwemakepricecomdealadeal4079242 # ...</td>\n",
       "      <td>Vamos a por esta mini semana estrenando total ...</td>\n",
       "      <td>Mais um mood natalcio #coolkids #fashionkids #...</td>\n",
       "    </tr>\n",
       "    <tr>\n",
       "      <th>tokens</th>\n",
       "      <td>fashioneditorial scan by me ingasavits for ell...</td>\n",
       "      <td>eternal beauty estinaofficial rosemont santama...</td>\n",
       "      <td>x 30 httpwwwwemakepricecomdealadeal4079242 ad ...</td>\n",
       "      <td>vamos a por esta mini semana estrenando total ...</td>\n",
       "      <td>mais um mood natalcio coolkids fashionkids por...</td>\n",
       "    </tr>\n",
       "    <tr>\n",
       "      <th>no_hashtag</th>\n",
       "      <td>#FashionEditorial Scan By Me #IngaSavits for E...</td>\n",
       "      <td># # # # # Eternal Beauty # # # estinaofficial...</td>\n",
       "      <td>X 30 httpwwwwemakepricecomdealadeal4079242 # ...</td>\n",
       "      <td>Vamos a por esta mini semana estrenando total ...</td>\n",
       "      <td>Mais um mood natalcio #coolkids #fashionkids #...</td>\n",
       "    </tr>\n",
       "    <tr>\n",
       "      <th>hashtag</th>\n",
       "      <td>#FashionEditorial #IngaSavits #ELLE #magazine ...</td>\n",
       "      <td>#ROSEMONT #santamarianovella #bodylotion #body...</td>\n",
       "      <td>#AD #ORT #oxfordreadingtree #Hmall #1 #EM #EM ...</td>\n",
       "      <td>#fashionblogger #1000manerasdevestir #adagatti...</td>\n",
       "      <td>#coolkids #fashionkids #portuguesebrands #kids...</td>\n",
       "    </tr>\n",
       "    <tr>\n",
       "      <th>Category</th>\n",
       "      <td>fashion</td>\n",
       "      <td>fashion</td>\n",
       "      <td>food</td>\n",
       "      <td>fashion</td>\n",
       "      <td>family</td>\n",
       "    </tr>\n",
       "    <tr>\n",
       "      <th>tier</th>\n",
       "      <td>Nano</td>\n",
       "      <td>Micro</td>\n",
       "      <td>Mid-tier</td>\n",
       "      <td>Micro</td>\n",
       "      <td>Nano</td>\n",
       "    </tr>\n",
       "  </tbody>\n",
       "</table>\n",
       "</div>"
      ],
      "text/plain": [
       "                                                            0  \\\n",
       "influencer                                    00s_supermodels   \n",
       "captions    #FashionEditorial Scan By Me #IngaSavits for E...   \n",
       "tokens      fashioneditorial scan by me ingasavits for ell...   \n",
       "no_hashtag  #FashionEditorial Scan By Me #IngaSavits for E...   \n",
       "hashtag     #FashionEditorial #IngaSavits #ELLE #magazine ...   \n",
       "Category                                              fashion   \n",
       "tier                                                     Nano   \n",
       "\n",
       "                                                            1  \\\n",
       "influencer                                             0720_b   \n",
       "captions     # # # # # Eternal Beauty # # # estinaofficial...   \n",
       "tokens      eternal beauty estinaofficial rosemont santama...   \n",
       "no_hashtag   # # # # # Eternal Beauty # # # estinaofficial...   \n",
       "hashtag     #ROSEMONT #santamarianovella #bodylotion #body...   \n",
       "Category                                              fashion   \n",
       "tier                                                    Micro   \n",
       "\n",
       "                                                            2  \\\n",
       "influencer                                            0821_me   \n",
       "captions     X 30 httpwwwwemakepricecomdealadeal4079242 # ...   \n",
       "tokens      x 30 httpwwwwemakepricecomdealadeal4079242 ad ...   \n",
       "no_hashtag   X 30 httpwwwwemakepricecomdealadeal4079242 # ...   \n",
       "hashtag     #AD #ORT #oxfordreadingtree #Hmall #1 #EM #EM ...   \n",
       "Category                                                 food   \n",
       "tier                                                 Mid-tier   \n",
       "\n",
       "                                                            3  \\\n",
       "influencer                                1000manerasdevestir   \n",
       "captions    Vamos a por esta mini semana estrenando total ...   \n",
       "tokens      vamos a por esta mini semana estrenando total ...   \n",
       "no_hashtag  Vamos a por esta mini semana estrenando total ...   \n",
       "hashtag     #fashionblogger #1000manerasdevestir #adagatti...   \n",
       "Category                                              fashion   \n",
       "tier                                                    Micro   \n",
       "\n",
       "                                                            4  \n",
       "influencer                                          100pintas  \n",
       "captions    Mais um mood natalcio #coolkids #fashionkids #...  \n",
       "tokens      mais um mood natalcio coolkids fashionkids por...  \n",
       "no_hashtag  Mais um mood natalcio #coolkids #fashionkids #...  \n",
       "hashtag     #coolkids #fashionkids #portuguesebrands #kids...  \n",
       "Category                                               family  \n",
       "tier                                                     Nano  "
      ]
     },
     "execution_count": 316,
     "metadata": {},
     "output_type": "execute_result"
    }
   ],
   "source": [
    "dfs10_user.head().T"
   ]
  },
  {
   "cell_type": "code",
   "execution_count": 425,
   "id": "ea414c22",
   "metadata": {},
   "outputs": [
    {
     "data": {
      "text/html": [
       "<div>\n",
       "<style scoped>\n",
       "    .dataframe tbody tr th:only-of-type {\n",
       "        vertical-align: middle;\n",
       "    }\n",
       "\n",
       "    .dataframe tbody tr th {\n",
       "        vertical-align: top;\n",
       "    }\n",
       "\n",
       "    .dataframe thead th {\n",
       "        text-align: right;\n",
       "    }\n",
       "</style>\n",
       "<table border=\"1\" class=\"dataframe\">\n",
       "  <thead>\n",
       "    <tr style=\"text-align: right;\">\n",
       "      <th></th>\n",
       "      <th>0</th>\n",
       "      <th>1</th>\n",
       "      <th>2</th>\n",
       "      <th>3</th>\n",
       "      <th>4</th>\n",
       "    </tr>\n",
       "  </thead>\n",
       "  <tbody>\n",
       "    <tr>\n",
       "      <th>influencer</th>\n",
       "      <td>00s_supermodels</td>\n",
       "      <td>00s_supermodels</td>\n",
       "      <td>00s_supermodels</td>\n",
       "      <td>00s_supermodels</td>\n",
       "      <td>00s_supermodels</td>\n",
       "    </tr>\n",
       "    <tr>\n",
       "      <th>posts</th>\n",
       "      <td>1958951327024739292.info</td>\n",
       "      <td>1920139034731094095.info</td>\n",
       "      <td>1972039176098647705.info</td>\n",
       "      <td>1910085992241632962.info</td>\n",
       "      <td>1921244054184528243.info</td>\n",
       "    </tr>\n",
       "    <tr>\n",
       "      <th>image</th>\n",
       "      <td>['1958950698725328921.jpg', '19589507028022564...</td>\n",
       "      <td>['1920139034731094095.jpg']</td>\n",
       "      <td>['1972039176098647705.jpg']</td>\n",
       "      <td>['1910085220179415841.jpg', '19100852205317717...</td>\n",
       "      <td>['1921244032357699082.jpg', '19212440325926970...</td>\n",
       "    </tr>\n",
       "    <tr>\n",
       "      <th>contents</th>\n",
       "      <td>{'gating_info': None, 'viewer_can_reshare': Tr...</td>\n",
       "      <td>{'gating_info': None, 'viewer_can_reshare': Tr...</td>\n",
       "      <td>{'gating_info': None, 'viewer_can_reshare': Tr...</td>\n",
       "      <td>{'gating_info': None, 'viewer_can_reshare': Tr...</td>\n",
       "      <td>{'gating_info': None, 'viewer_can_reshare': Tr...</td>\n",
       "    </tr>\n",
       "    <tr>\n",
       "      <th>captions</th>\n",
       "      <td>#FashionEditorial Scan By Me #IngaSavits for E...</td>\n",
       "      <td>#Runway Scan By Me #Valentino FallWinter 2000 ...</td>\n",
       "      <td>#Runway #ClaudiaSchiffer Balmain SpringSummer ...</td>\n",
       "      <td>#Runway #EugeniaVolodina Byblos SpringSummer 2...</td>\n",
       "      <td>#Runway pictures credit marpercuov4l #Anastass...</td>\n",
       "    </tr>\n",
       "    <tr>\n",
       "      <th>comment_counts</th>\n",
       "      <td>0</td>\n",
       "      <td>0</td>\n",
       "      <td>0</td>\n",
       "      <td>2</td>\n",
       "      <td>0</td>\n",
       "    </tr>\n",
       "    <tr>\n",
       "      <th>comments</th>\n",
       "      <td></td>\n",
       "      <td></td>\n",
       "      <td></td>\n",
       "      <td>two_heartsrevolving_heartstwo_hearts Wow smili...</td>\n",
       "      <td></td>\n",
       "    </tr>\n",
       "    <tr>\n",
       "      <th>likes</th>\n",
       "      <td>68</td>\n",
       "      <td>100</td>\n",
       "      <td>102</td>\n",
       "      <td>94</td>\n",
       "      <td>67</td>\n",
       "    </tr>\n",
       "    <tr>\n",
       "      <th>count_tags</th>\n",
       "      <td>1</td>\n",
       "      <td>4</td>\n",
       "      <td>1</td>\n",
       "      <td>2</td>\n",
       "      <td>1</td>\n",
       "    </tr>\n",
       "    <tr>\n",
       "      <th>verified_tags</th>\n",
       "      <td>0</td>\n",
       "      <td>3</td>\n",
       "      <td>1</td>\n",
       "      <td>1</td>\n",
       "      <td>0</td>\n",
       "    </tr>\n",
       "    <tr>\n",
       "      <th>en_score</th>\n",
       "      <td>0.999995</td>\n",
       "      <td>0.999996</td>\n",
       "      <td>0.714283</td>\n",
       "      <td>0.999994</td>\n",
       "      <td>0.857141</td>\n",
       "    </tr>\n",
       "    <tr>\n",
       "      <th>tokens</th>\n",
       "      <td>fashioneditorial scan by me ingasavits for ell...</td>\n",
       "      <td>runway scan by me valentino fallwinter 2000 mo...</td>\n",
       "      <td>runway claudiaschiffer balmain springsummer 20...</td>\n",
       "      <td>runway eugeniavolodina byblos springsummer 200...</td>\n",
       "      <td>runway picture credit marpercuov4l anastassiak...</td>\n",
       "    </tr>\n",
       "    <tr>\n",
       "      <th>no_hashtag</th>\n",
       "      <td>#FashionEditorial Scan By Me #IngaSavits for E...</td>\n",
       "      <td>#Runway Scan By Me #Valentino FallWinter 2000 ...</td>\n",
       "      <td>#Runway #ClaudiaSchiffer Balmain SpringSummer ...</td>\n",
       "      <td>#Runway #EugeniaVolodina Byblos SpringSummer 2...</td>\n",
       "      <td>#Runway pictures credit marpercuov4l #Anastass...</td>\n",
       "    </tr>\n",
       "    <tr>\n",
       "      <th>hashtag</th>\n",
       "      <td>#FashionEditorial #IngaSavits #ELLE #magazine ...</td>\n",
       "      <td>#Runway #Valentino #IrinaBondarenko #KarolinaK...</td>\n",
       "      <td>#Runway #ClaudiaSchiffer #Balmain</td>\n",
       "      <td>#Runway #EugeniaVolodina #Byblos #RunwayShow #...</td>\n",
       "      <td>#Runway #AnastassiaKhozissova #AAMilano #Runwa...</td>\n",
       "    </tr>\n",
       "    <tr>\n",
       "      <th>tokens_tagged</th>\n",
       "      <td>fashioneditorial scan by me ingasavits for ell...</td>\n",
       "      <td>runway scan by me valentino_fallwinter_2000 mo...</td>\n",
       "      <td>runway claudiaschiffer balmain springsummer 20...</td>\n",
       "      <td>runway eugeniavolodina byblos springsummer 200...</td>\n",
       "      <td>runway picture credit marpercuov4l anastassiak...</td>\n",
       "    </tr>\n",
       "    <tr>\n",
       "      <th>tags</th>\n",
       "      <td>[{('elle china', 'ORG'): 1}, {('elle', 'ORG'):...</td>\n",
       "      <td>[{('valentino fallwinter 2000', 'PERSON'): 1},...</td>\n",
       "      <td>[]</td>\n",
       "      <td>[]</td>\n",
       "      <td>[{('anastassiakhozissova aa milano', 'ORG'): 1}]</td>\n",
       "    </tr>\n",
       "    <tr>\n",
       "      <th>tags_GPE</th>\n",
       "      <td>0</td>\n",
       "      <td>0</td>\n",
       "      <td>0</td>\n",
       "      <td>0</td>\n",
       "      <td>0</td>\n",
       "    </tr>\n",
       "    <tr>\n",
       "      <th>tags_EVENT</th>\n",
       "      <td>0</td>\n",
       "      <td>0</td>\n",
       "      <td>0</td>\n",
       "      <td>0</td>\n",
       "      <td>0</td>\n",
       "    </tr>\n",
       "    <tr>\n",
       "      <th>tags_FAC</th>\n",
       "      <td>0</td>\n",
       "      <td>0</td>\n",
       "      <td>0</td>\n",
       "      <td>0</td>\n",
       "      <td>0</td>\n",
       "    </tr>\n",
       "    <tr>\n",
       "      <th>tags_NORP</th>\n",
       "      <td>0</td>\n",
       "      <td>0</td>\n",
       "      <td>0</td>\n",
       "      <td>0</td>\n",
       "      <td>0</td>\n",
       "    </tr>\n",
       "    <tr>\n",
       "      <th>tags_WORK_OF_ART</th>\n",
       "      <td>0</td>\n",
       "      <td>0</td>\n",
       "      <td>0</td>\n",
       "      <td>0</td>\n",
       "      <td>0</td>\n",
       "    </tr>\n",
       "    <tr>\n",
       "      <th>tags_ORG</th>\n",
       "      <td>2</td>\n",
       "      <td>0</td>\n",
       "      <td>0</td>\n",
       "      <td>0</td>\n",
       "      <td>1</td>\n",
       "    </tr>\n",
       "    <tr>\n",
       "      <th>tags_PERSON</th>\n",
       "      <td>0</td>\n",
       "      <td>2</td>\n",
       "      <td>0</td>\n",
       "      <td>0</td>\n",
       "      <td>0</td>\n",
       "    </tr>\n",
       "    <tr>\n",
       "      <th>tags_LOC</th>\n",
       "      <td>0</td>\n",
       "      <td>0</td>\n",
       "      <td>0</td>\n",
       "      <td>0</td>\n",
       "      <td>0</td>\n",
       "    </tr>\n",
       "    <tr>\n",
       "      <th>tags_PRODUCT</th>\n",
       "      <td>0</td>\n",
       "      <td>0</td>\n",
       "      <td>0</td>\n",
       "      <td>0</td>\n",
       "      <td>0</td>\n",
       "    </tr>\n",
       "  </tbody>\n",
       "</table>\n",
       "</div>"
      ],
      "text/plain": [
       "                                                                  0  \\\n",
       "influencer                                          00s_supermodels   \n",
       "posts                                      1958951327024739292.info   \n",
       "image             ['1958950698725328921.jpg', '19589507028022564...   \n",
       "contents          {'gating_info': None, 'viewer_can_reshare': Tr...   \n",
       "captions          #FashionEditorial Scan By Me #IngaSavits for E...   \n",
       "comment_counts                                                    0   \n",
       "comments                                                              \n",
       "likes                                                            68   \n",
       "count_tags                                                        1   \n",
       "verified_tags                                                     0   \n",
       "en_score                                                   0.999995   \n",
       "tokens            fashioneditorial scan by me ingasavits for ell...   \n",
       "no_hashtag        #FashionEditorial Scan By Me #IngaSavits for E...   \n",
       "hashtag           #FashionEditorial #IngaSavits #ELLE #magazine ...   \n",
       "tokens_tagged     fashioneditorial scan by me ingasavits for ell...   \n",
       "tags              [{('elle china', 'ORG'): 1}, {('elle', 'ORG'):...   \n",
       "tags_GPE                                                          0   \n",
       "tags_EVENT                                                        0   \n",
       "tags_FAC                                                          0   \n",
       "tags_NORP                                                         0   \n",
       "tags_WORK_OF_ART                                                  0   \n",
       "tags_ORG                                                          2   \n",
       "tags_PERSON                                                       0   \n",
       "tags_LOC                                                          0   \n",
       "tags_PRODUCT                                                      0   \n",
       "\n",
       "                                                                  1  \\\n",
       "influencer                                          00s_supermodels   \n",
       "posts                                      1920139034731094095.info   \n",
       "image                                   ['1920139034731094095.jpg']   \n",
       "contents          {'gating_info': None, 'viewer_can_reshare': Tr...   \n",
       "captions          #Runway Scan By Me #Valentino FallWinter 2000 ...   \n",
       "comment_counts                                                    0   \n",
       "comments                                                              \n",
       "likes                                                           100   \n",
       "count_tags                                                        4   \n",
       "verified_tags                                                     3   \n",
       "en_score                                                   0.999996   \n",
       "tokens            runway scan by me valentino fallwinter 2000 mo...   \n",
       "no_hashtag        #Runway Scan By Me #Valentino FallWinter 2000 ...   \n",
       "hashtag           #Runway #Valentino #IrinaBondarenko #KarolinaK...   \n",
       "tokens_tagged     runway scan by me valentino_fallwinter_2000 mo...   \n",
       "tags              [{('valentino fallwinter 2000', 'PERSON'): 1},...   \n",
       "tags_GPE                                                          0   \n",
       "tags_EVENT                                                        0   \n",
       "tags_FAC                                                          0   \n",
       "tags_NORP                                                         0   \n",
       "tags_WORK_OF_ART                                                  0   \n",
       "tags_ORG                                                          0   \n",
       "tags_PERSON                                                       2   \n",
       "tags_LOC                                                          0   \n",
       "tags_PRODUCT                                                      0   \n",
       "\n",
       "                                                                  2  \\\n",
       "influencer                                          00s_supermodels   \n",
       "posts                                      1972039176098647705.info   \n",
       "image                                   ['1972039176098647705.jpg']   \n",
       "contents          {'gating_info': None, 'viewer_can_reshare': Tr...   \n",
       "captions          #Runway #ClaudiaSchiffer Balmain SpringSummer ...   \n",
       "comment_counts                                                    0   \n",
       "comments                                                              \n",
       "likes                                                           102   \n",
       "count_tags                                                        1   \n",
       "verified_tags                                                     1   \n",
       "en_score                                                   0.714283   \n",
       "tokens            runway claudiaschiffer balmain springsummer 20...   \n",
       "no_hashtag        #Runway #ClaudiaSchiffer Balmain SpringSummer ...   \n",
       "hashtag                           #Runway #ClaudiaSchiffer #Balmain   \n",
       "tokens_tagged     runway claudiaschiffer balmain springsummer 20...   \n",
       "tags                                                             []   \n",
       "tags_GPE                                                          0   \n",
       "tags_EVENT                                                        0   \n",
       "tags_FAC                                                          0   \n",
       "tags_NORP                                                         0   \n",
       "tags_WORK_OF_ART                                                  0   \n",
       "tags_ORG                                                          0   \n",
       "tags_PERSON                                                       0   \n",
       "tags_LOC                                                          0   \n",
       "tags_PRODUCT                                                      0   \n",
       "\n",
       "                                                                  3  \\\n",
       "influencer                                          00s_supermodels   \n",
       "posts                                      1910085992241632962.info   \n",
       "image             ['1910085220179415841.jpg', '19100852205317717...   \n",
       "contents          {'gating_info': None, 'viewer_can_reshare': Tr...   \n",
       "captions          #Runway #EugeniaVolodina Byblos SpringSummer 2...   \n",
       "comment_counts                                                    2   \n",
       "comments          two_heartsrevolving_heartstwo_hearts Wow smili...   \n",
       "likes                                                            94   \n",
       "count_tags                                                        2   \n",
       "verified_tags                                                     1   \n",
       "en_score                                                   0.999994   \n",
       "tokens            runway eugeniavolodina byblos springsummer 200...   \n",
       "no_hashtag        #Runway #EugeniaVolodina Byblos SpringSummer 2...   \n",
       "hashtag           #Runway #EugeniaVolodina #Byblos #RunwayShow #...   \n",
       "tokens_tagged     runway eugeniavolodina byblos springsummer 200...   \n",
       "tags                                                             []   \n",
       "tags_GPE                                                          0   \n",
       "tags_EVENT                                                        0   \n",
       "tags_FAC                                                          0   \n",
       "tags_NORP                                                         0   \n",
       "tags_WORK_OF_ART                                                  0   \n",
       "tags_ORG                                                          0   \n",
       "tags_PERSON                                                       0   \n",
       "tags_LOC                                                          0   \n",
       "tags_PRODUCT                                                      0   \n",
       "\n",
       "                                                                  4  \n",
       "influencer                                          00s_supermodels  \n",
       "posts                                      1921244054184528243.info  \n",
       "image             ['1921244032357699082.jpg', '19212440325926970...  \n",
       "contents          {'gating_info': None, 'viewer_can_reshare': Tr...  \n",
       "captions          #Runway pictures credit marpercuov4l #Anastass...  \n",
       "comment_counts                                                    0  \n",
       "comments                                                             \n",
       "likes                                                            67  \n",
       "count_tags                                                        1  \n",
       "verified_tags                                                     0  \n",
       "en_score                                                   0.857141  \n",
       "tokens            runway picture credit marpercuov4l anastassiak...  \n",
       "no_hashtag        #Runway pictures credit marpercuov4l #Anastass...  \n",
       "hashtag           #Runway #AnastassiaKhozissova #AAMilano #Runwa...  \n",
       "tokens_tagged     runway picture credit marpercuov4l anastassiak...  \n",
       "tags               [{('anastassiakhozissova aa milano', 'ORG'): 1}]  \n",
       "tags_GPE                                                          0  \n",
       "tags_EVENT                                                        0  \n",
       "tags_FAC                                                          0  \n",
       "tags_NORP                                                         0  \n",
       "tags_WORK_OF_ART                                                  0  \n",
       "tags_ORG                                                          1  \n",
       "tags_PERSON                                                       0  \n",
       "tags_LOC                                                          0  \n",
       "tags_PRODUCT                                                      0  "
      ]
     },
     "execution_count": 425,
     "metadata": {},
     "output_type": "execute_result"
    }
   ],
   "source": [
    "dfs10_en.head().T"
   ]
  },
  {
   "cell_type": "markdown",
   "id": "24bf347b",
   "metadata": {},
   "source": [
    "### Create NER tagging features by posts"
   ]
  },
  {
   "cell_type": "code",
   "execution_count": 318,
   "id": "fd6d9767",
   "metadata": {},
   "outputs": [],
   "source": [
    "from spacy import displacy"
   ]
  },
  {
   "cell_type": "code",
   "execution_count": 319,
   "id": "cf44c606",
   "metadata": {},
   "outputs": [],
   "source": [
    "def _get_ner (text):\n",
    "    doc = nlp(text)\n",
    "    return [X.label_ for X in doc.ents]"
   ]
  },
  {
   "cell_type": "code",
   "execution_count": 320,
   "id": "1cae3c33",
   "metadata": {},
   "outputs": [],
   "source": [
    "import collections\n",
    "lst_tag_type = [\"ORG\",\"PERSON\",\"NORP\",\"GPE\",\"LOC\",\"FAC\",\"EVENT\",\"PRODUCT\",\"WORK_OF_ART\"]"
   ]
  },
  {
   "cell_type": "code",
   "execution_count": 335,
   "id": "53cb38f8",
   "metadata": {},
   "outputs": [],
   "source": [
    "def utils_ner_text(txt, ner=None, lst_tag_filter=None, grams_join=\"_\"):\n",
    "    ## apply model\n",
    "    ner = spacy.load(\"en_core_web_lg\") if ner is None else ner\n",
    "    entities = ner(txt).ents\n",
    "\n",
    "    ## tag text\n",
    "    tagged_txt = txt\n",
    "    for tag in entities:\n",
    "        if (lst_tag_filter is None) or (tag.label_ in lst_tag_filter):\n",
    "            try:\n",
    "                tagged_txt = re.sub(tag.text, grams_join.join(tag.text.split()), tagged_txt) #it breaks with wild characters like *+\n",
    "            except Exception as e:\n",
    "                continue\n",
    "\n",
    "    ## extract tags list\n",
    "    if lst_tag_filter is None:\n",
    "        lst_tags = [(tag.text, tag.label_) for tag in entities]  #list(set([(word.text, word.label_) for word in ner(x).ents]))\n",
    "    else: \n",
    "        lst_tags = [(word.text, word.label_) for word in entities if word.label_ in lst_tag_filter]\n",
    "\n",
    "    return tagged_txt, lst_tags"
   ]
  },
  {
   "cell_type": "code",
   "execution_count": 351,
   "id": "af436483",
   "metadata": {},
   "outputs": [],
   "source": [
    "def add_ner_spacy(dtf, column, ner=None, lst_tag_filter=None, grams_join=\"_\", create_features=True):\n",
    "    ner = spacy.load(\"en_core_web_lg\") if ner is None else ner\n",
    "\n",
    "    ## tag text and exctract tags\n",
    "    print(\"--- tagging ---\")\n",
    "    dtf[[column+\"_tagged\", \"tags\"]] = dtf[[column]].apply(lambda x: utils_ner_text(x[0], ner, lst_tag_filter, grams_join), \n",
    "                                                          axis=1, result_type='expand')\n",
    "\n",
    "    ## put all tags in a column\n",
    "    print(\"--- counting tags ---\")\n",
    "    dtf[\"tags\"] = dtf[\"tags\"].apply(lambda x: utils_lst_count(x, top=None))\n",
    "    \n",
    "    ## extract features\n",
    "    if create_features == True:\n",
    "        print(\"--- creating features ---\")\n",
    "        ### features set\n",
    "        tags_set = []\n",
    "        for lst in dtf[\"tags\"].tolist():\n",
    "            for dic in lst:\n",
    "                for k in dic.keys():\n",
    "                    tags_set.append(k[1])\n",
    "        tags_set = list(set(tags_set))\n",
    "        ### create columns\n",
    "        for feature in tags_set:\n",
    "            dtf[\"tags_\"+feature] = dtf[\"tags\"].apply(lambda x: utils_ner_features(x, feature))\n",
    "    return dtf"
   ]
  },
  {
   "cell_type": "code",
   "execution_count": 337,
   "id": "89ca7798",
   "metadata": {},
   "outputs": [],
   "source": [
    "def utils_lst_count(lst, top=None):\n",
    "    dic_counter = collections.Counter()\n",
    "    for x in lst:\n",
    "        dic_counter[x] += 1\n",
    "    dic_counter = collections.OrderedDict(sorted(dic_counter.items(), key=lambda x: x[1], reverse=True))\n",
    "    lst_top = [ {key:value} for key,value in dic_counter.items() ]\n",
    "    if top is not None:\n",
    "        lst_top = lst_top[:top]\n",
    "    return lst_top"
   ]
  },
  {
   "cell_type": "code",
   "execution_count": 338,
   "id": "efbfe6c0",
   "metadata": {},
   "outputs": [],
   "source": [
    "def utils_ner_features(lst_dics_tuples, tag):\n",
    "    if len(lst_dics_tuples) > 0:\n",
    "        tag_type = []\n",
    "        for dic_tuples in lst_dics_tuples:\n",
    "            for tuple in dic_tuples:\n",
    "                type, n = tuple[1], dic_tuples[tuple]\n",
    "                tag_type = tag_type + [type]*n\n",
    "                dic_counter = collections.Counter()\n",
    "                for x in tag_type:\n",
    "                    dic_counter[x] += 1\n",
    "        return dic_counter[tag]   #pd.DataFrame([dic_counter])\n",
    "    else:\n",
    "        return 0"
   ]
  },
  {
   "cell_type": "code",
   "execution_count": 339,
   "id": "8e2d0a8f",
   "metadata": {},
   "outputs": [
    {
     "data": {
      "text/html": [
       "<span class=\"tex2jax_ignore\"><div class=\"entities\" style=\"line-height: 2.5; direction: ltr\">fashioneditorial scan by me ingasavits for \n",
       "<mark class=\"entity\" style=\"background: #7aecec; padding: 0.45em 0.6em; margin: 0 0.25em; line-height: 1; border-radius: 0.35em;\">\n",
       "    elle china\n",
       "    <span style=\"font-size: 0.8em; font-weight: bold; line-height: 1; border-radius: 0.35em; vertical-align: middle; margin-left: 0.5rem\">ORG</span>\n",
       "</mark>\n",
       " \n",
       "<mark class=\"entity\" style=\"background: #bfe1d9; padding: 0.45em 0.6em; margin: 0 0.25em; line-height: 1; border-radius: 0.35em;\">\n",
       "    september 1999\n",
       "    <span style=\"font-size: 0.8em; font-weight: bold; line-height: 1; border-radius: 0.35em; vertical-align: middle; margin-left: 0.5rem\">DATE</span>\n",
       "</mark>\n",
       " \n",
       "<mark class=\"entity\" style=\"background: #7aecec; padding: 0.45em 0.6em; margin: 0 0.25em; line-height: 1; border-radius: 0.35em;\">\n",
       "    elle\n",
       "    <span style=\"font-size: 0.8em; font-weight: bold; line-height: 1; border-radius: 0.35em; vertical-align: middle; margin-left: 0.5rem\">ORG</span>\n",
       "</mark>\n",
       " magazine ellechina editorial supermodel topmodel iconmodels highfashionmodel highfashion throwback flashback \n",
       "<mark class=\"entity\" style=\"background: #e4e7d2; padding: 0.45em 0.6em; margin: 0 0.25em; line-height: 1; border-radius: 0.35em;\">\n",
       "    90\n",
       "    <span style=\"font-size: 0.8em; font-weight: bold; line-height: 1; border-radius: 0.35em; vertical-align: middle; margin-left: 0.5rem\">CARDINAL</span>\n",
       "</mark>\n",
       "</div></span>"
      ],
      "text/plain": [
       "<IPython.core.display.HTML object>"
      ]
     },
     "metadata": {},
     "output_type": "display_data"
    }
   ],
   "source": [
    "#Example\n",
    "text = dfs10_en.loc[0, 'tokens']\n",
    "displacy.render(nlp(text), style='ent', jupyter=True)"
   ]
  },
  {
   "cell_type": "code",
   "execution_count": 352,
   "id": "fe634749",
   "metadata": {},
   "outputs": [
    {
     "name": "stdout",
     "output_type": "stream",
     "text": [
      "--- tagging ---\n"
     ]
    },
    {
     "name": "stderr",
     "output_type": "stream",
     "text": [
      "/opt/anaconda3/envs/nlp21v0/lib/python3.8/site-packages/pandas/core/frame.py:3191: SettingWithCopyWarning: \n",
      "A value is trying to be set on a copy of a slice from a DataFrame.\n",
      "Try using .loc[row_indexer,col_indexer] = value instead\n",
      "\n",
      "See the caveats in the documentation: https://pandas.pydata.org/pandas-docs/stable/user_guide/indexing.html#returning-a-view-versus-a-copy\n",
      "  self[k1] = value[k2]\n"
     ]
    },
    {
     "name": "stdout",
     "output_type": "stream",
     "text": [
      "--- counting tags ---\n"
     ]
    },
    {
     "name": "stderr",
     "output_type": "stream",
     "text": [
      "<ipython-input-351-c3c9c98e258d>:11: SettingWithCopyWarning: \n",
      "A value is trying to be set on a copy of a slice from a DataFrame.\n",
      "Try using .loc[row_indexer,col_indexer] = value instead\n",
      "\n",
      "See the caveats in the documentation: https://pandas.pydata.org/pandas-docs/stable/user_guide/indexing.html#returning-a-view-versus-a-copy\n",
      "  dtf[\"tags\"] = dtf[\"tags\"].apply(lambda x: utils_lst_count(x, top=None))\n"
     ]
    },
    {
     "name": "stdout",
     "output_type": "stream",
     "text": [
      "--- creating features ---\n"
     ]
    },
    {
     "name": "stderr",
     "output_type": "stream",
     "text": [
      "<ipython-input-351-c3c9c98e258d>:25: SettingWithCopyWarning: \n",
      "A value is trying to be set on a copy of a slice from a DataFrame.\n",
      "Try using .loc[row_indexer,col_indexer] = value instead\n",
      "\n",
      "See the caveats in the documentation: https://pandas.pydata.org/pandas-docs/stable/user_guide/indexing.html#returning-a-view-versus-a-copy\n",
      "  dtf[\"tags_\"+feature] = dtf[\"tags\"].apply(lambda x: utils_ner_features(x, feature))\n"
     ]
    },
    {
     "data": {
      "text/html": [
       "<div>\n",
       "<style scoped>\n",
       "    .dataframe tbody tr th:only-of-type {\n",
       "        vertical-align: middle;\n",
       "    }\n",
       "\n",
       "    .dataframe tbody tr th {\n",
       "        vertical-align: top;\n",
       "    }\n",
       "\n",
       "    .dataframe thead th {\n",
       "        text-align: right;\n",
       "    }\n",
       "</style>\n",
       "<table border=\"1\" class=\"dataframe\">\n",
       "  <thead>\n",
       "    <tr style=\"text-align: right;\">\n",
       "      <th></th>\n",
       "      <th>influencer</th>\n",
       "      <th>posts</th>\n",
       "      <th>image</th>\n",
       "      <th>contents</th>\n",
       "      <th>captions</th>\n",
       "      <th>comment_counts</th>\n",
       "      <th>comments</th>\n",
       "      <th>likes</th>\n",
       "      <th>count_tags</th>\n",
       "      <th>verified_tags</th>\n",
       "      <th>...</th>\n",
       "      <th>tags</th>\n",
       "      <th>tags_GPE</th>\n",
       "      <th>tags_EVENT</th>\n",
       "      <th>tags_FAC</th>\n",
       "      <th>tags_NORP</th>\n",
       "      <th>tags_WORK_OF_ART</th>\n",
       "      <th>tags_ORG</th>\n",
       "      <th>tags_PERSON</th>\n",
       "      <th>tags_LOC</th>\n",
       "      <th>tags_PRODUCT</th>\n",
       "    </tr>\n",
       "  </thead>\n",
       "  <tbody>\n",
       "    <tr>\n",
       "      <th>0</th>\n",
       "      <td>00s_supermodels</td>\n",
       "      <td>1958951327024739292.info</td>\n",
       "      <td>['1958950698725328921.jpg', '19589507028022564...</td>\n",
       "      <td>{'gating_info': None, 'viewer_can_reshare': Tr...</td>\n",
       "      <td>#FashionEditorial Scan By Me #IngaSavits for E...</td>\n",
       "      <td>0</td>\n",
       "      <td>[]</td>\n",
       "      <td>68</td>\n",
       "      <td>1</td>\n",
       "      <td>0</td>\n",
       "      <td>...</td>\n",
       "      <td>[{('elle china', 'ORG'): 1}, {('elle', 'ORG'):...</td>\n",
       "      <td>0</td>\n",
       "      <td>0</td>\n",
       "      <td>0</td>\n",
       "      <td>0</td>\n",
       "      <td>0</td>\n",
       "      <td>2</td>\n",
       "      <td>0</td>\n",
       "      <td>0</td>\n",
       "      <td>0</td>\n",
       "    </tr>\n",
       "    <tr>\n",
       "      <th>1</th>\n",
       "      <td>00s_supermodels</td>\n",
       "      <td>1920139034731094095.info</td>\n",
       "      <td>['1920139034731094095.jpg']</td>\n",
       "      <td>{'gating_info': None, 'viewer_can_reshare': Tr...</td>\n",
       "      <td>#Runway Scan By Me #Valentino FallWinter 2000 ...</td>\n",
       "      <td>0</td>\n",
       "      <td>[]</td>\n",
       "      <td>100</td>\n",
       "      <td>4</td>\n",
       "      <td>3</td>\n",
       "      <td>...</td>\n",
       "      <td>[{('valentino fallwinter 2000', 'PERSON'): 1},...</td>\n",
       "      <td>0</td>\n",
       "      <td>0</td>\n",
       "      <td>0</td>\n",
       "      <td>0</td>\n",
       "      <td>0</td>\n",
       "      <td>0</td>\n",
       "      <td>2</td>\n",
       "      <td>0</td>\n",
       "      <td>0</td>\n",
       "    </tr>\n",
       "    <tr>\n",
       "      <th>2</th>\n",
       "      <td>00s_supermodels</td>\n",
       "      <td>1972039176098647705.info</td>\n",
       "      <td>['1972039176098647705.jpg']</td>\n",
       "      <td>{'gating_info': None, 'viewer_can_reshare': Tr...</td>\n",
       "      <td>#Runway #ClaudiaSchiffer Balmain SpringSummer ...</td>\n",
       "      <td>0</td>\n",
       "      <td>[]</td>\n",
       "      <td>102</td>\n",
       "      <td>1</td>\n",
       "      <td>1</td>\n",
       "      <td>...</td>\n",
       "      <td>[]</td>\n",
       "      <td>0</td>\n",
       "      <td>0</td>\n",
       "      <td>0</td>\n",
       "      <td>0</td>\n",
       "      <td>0</td>\n",
       "      <td>0</td>\n",
       "      <td>0</td>\n",
       "      <td>0</td>\n",
       "      <td>0</td>\n",
       "    </tr>\n",
       "    <tr>\n",
       "      <th>3</th>\n",
       "      <td>00s_supermodels</td>\n",
       "      <td>1910085992241632962.info</td>\n",
       "      <td>['1910085220179415841.jpg', '19100852205317717...</td>\n",
       "      <td>{'gating_info': None, 'viewer_can_reshare': Tr...</td>\n",
       "      <td>#Runway #EugeniaVolodina Byblos SpringSummer 2...</td>\n",
       "      <td>2</td>\n",
       "      <td>[💕💞💕, Wow 😍]</td>\n",
       "      <td>94</td>\n",
       "      <td>2</td>\n",
       "      <td>1</td>\n",
       "      <td>...</td>\n",
       "      <td>[]</td>\n",
       "      <td>0</td>\n",
       "      <td>0</td>\n",
       "      <td>0</td>\n",
       "      <td>0</td>\n",
       "      <td>0</td>\n",
       "      <td>0</td>\n",
       "      <td>0</td>\n",
       "      <td>0</td>\n",
       "      <td>0</td>\n",
       "    </tr>\n",
       "    <tr>\n",
       "      <th>4</th>\n",
       "      <td>00s_supermodels</td>\n",
       "      <td>1921244054184528243.info</td>\n",
       "      <td>['1921244032357699082.jpg', '19212440325926970...</td>\n",
       "      <td>{'gating_info': None, 'viewer_can_reshare': Tr...</td>\n",
       "      <td>#Runway pictures credit marpercuov4l #Anastass...</td>\n",
       "      <td>0</td>\n",
       "      <td>[]</td>\n",
       "      <td>67</td>\n",
       "      <td>1</td>\n",
       "      <td>0</td>\n",
       "      <td>...</td>\n",
       "      <td>[{('anastassiakhozissova aa milano', 'ORG'): 1}]</td>\n",
       "      <td>0</td>\n",
       "      <td>0</td>\n",
       "      <td>0</td>\n",
       "      <td>0</td>\n",
       "      <td>0</td>\n",
       "      <td>1</td>\n",
       "      <td>0</td>\n",
       "      <td>0</td>\n",
       "      <td>0</td>\n",
       "    </tr>\n",
       "  </tbody>\n",
       "</table>\n",
       "<p>5 rows × 25 columns</p>\n",
       "</div>"
      ],
      "text/plain": [
       "        influencer                     posts  \\\n",
       "0  00s_supermodels  1958951327024739292.info   \n",
       "1  00s_supermodels  1920139034731094095.info   \n",
       "2  00s_supermodels  1972039176098647705.info   \n",
       "3  00s_supermodels  1910085992241632962.info   \n",
       "4  00s_supermodels  1921244054184528243.info   \n",
       "\n",
       "                                               image  \\\n",
       "0  ['1958950698725328921.jpg', '19589507028022564...   \n",
       "1                        ['1920139034731094095.jpg']   \n",
       "2                        ['1972039176098647705.jpg']   \n",
       "3  ['1910085220179415841.jpg', '19100852205317717...   \n",
       "4  ['1921244032357699082.jpg', '19212440325926970...   \n",
       "\n",
       "                                            contents  \\\n",
       "0  {'gating_info': None, 'viewer_can_reshare': Tr...   \n",
       "1  {'gating_info': None, 'viewer_can_reshare': Tr...   \n",
       "2  {'gating_info': None, 'viewer_can_reshare': Tr...   \n",
       "3  {'gating_info': None, 'viewer_can_reshare': Tr...   \n",
       "4  {'gating_info': None, 'viewer_can_reshare': Tr...   \n",
       "\n",
       "                                            captions  comment_counts  \\\n",
       "0  #FashionEditorial Scan By Me #IngaSavits for E...               0   \n",
       "1  #Runway Scan By Me #Valentino FallWinter 2000 ...               0   \n",
       "2  #Runway #ClaudiaSchiffer Balmain SpringSummer ...               0   \n",
       "3  #Runway #EugeniaVolodina Byblos SpringSummer 2...               2   \n",
       "4  #Runway pictures credit marpercuov4l #Anastass...               0   \n",
       "\n",
       "       comments  likes  count_tags  verified_tags  ...  \\\n",
       "0            []     68           1              0  ...   \n",
       "1            []    100           4              3  ...   \n",
       "2            []    102           1              1  ...   \n",
       "3  [💕💞💕, Wow 😍]     94           2              1  ...   \n",
       "4            []     67           1              0  ...   \n",
       "\n",
       "                                                tags tags_GPE tags_EVENT  \\\n",
       "0  [{('elle china', 'ORG'): 1}, {('elle', 'ORG'):...        0          0   \n",
       "1  [{('valentino fallwinter 2000', 'PERSON'): 1},...        0          0   \n",
       "2                                                 []        0          0   \n",
       "3                                                 []        0          0   \n",
       "4   [{('anastassiakhozissova aa milano', 'ORG'): 1}]        0          0   \n",
       "\n",
       "  tags_FAC tags_NORP tags_WORK_OF_ART  tags_ORG  tags_PERSON  tags_LOC  \\\n",
       "0        0         0                0         2            0         0   \n",
       "1        0         0                0         0            2         0   \n",
       "2        0         0                0         0            0         0   \n",
       "3        0         0                0         0            0         0   \n",
       "4        0         0                0         1            0         0   \n",
       "\n",
       "   tags_PRODUCT  \n",
       "0             0  \n",
       "1             0  \n",
       "2             0  \n",
       "3             0  \n",
       "4             0  \n",
       "\n",
       "[5 rows x 25 columns]"
      ]
     },
     "execution_count": 352,
     "metadata": {},
     "output_type": "execute_result"
    }
   ],
   "source": [
    "# this takes a while\n",
    "dfs10_en_tag = add_ner_spacy(dfs10_en, \"tokens\", nlp, lst_tag_type, grams_join=\"_\", create_features=True)\n",
    "dfs10_en_tag.head() "
   ]
  },
  {
   "cell_type": "code",
   "execution_count": 451,
   "id": "75bb58bf",
   "metadata": {},
   "outputs": [
    {
     "data": {
      "text/plain": [
       "(185001, 26)"
      ]
     },
     "execution_count": 451,
     "metadata": {},
     "output_type": "execute_result"
    }
   ],
   "source": [
    "dfs10_en_tag.shape"
   ]
  },
  {
   "cell_type": "code",
   "execution_count": 450,
   "id": "6c15baf8",
   "metadata": {},
   "outputs": [
    {
     "data": {
      "text/plain": [
       "(185001, 26)"
      ]
     },
     "execution_count": 450,
     "metadata": {},
     "output_type": "execute_result"
    }
   ],
   "source": [
    "dfs10_en.shape"
   ]
  },
  {
   "cell_type": "markdown",
   "id": "3c02490f",
   "metadata": {},
   "source": [
    "Export to Topic Classification for addition of features"
   ]
  },
  {
   "cell_type": "code",
   "execution_count": 452,
   "id": "7270e764",
   "metadata": {},
   "outputs": [],
   "source": [
    "dfs10_en.to_csv('/Users/lamga/OneDrive/IOD Lessons/Projects/Extract IG influencer dataset/dfs10enc.csv',index=False, header=True)"
   ]
  },
  {
   "cell_type": "code",
   "execution_count": 429,
   "id": "41027ad4",
   "metadata": {},
   "outputs": [],
   "source": [
    "dfs10_en_tag.to_csv('/Users/lamga/OneDrive/IOD Lessons/Projects/Extract IG influencer dataset/dfs10entag.csv',index=False, header=True)"
   ]
  },
  {
   "cell_type": "code",
   "execution_count": 317,
   "id": "ea03ec33",
   "metadata": {},
   "outputs": [],
   "source": [
    "dfs10_user.to_csv('/Users/lamga/OneDrive/IOD Lessons/Projects/Extract IG influencer dataset/dfs10user.csv',index=False, header=True)"
   ]
  },
  {
   "cell_type": "code",
   "execution_count": 457,
   "id": "90d7cc7d",
   "metadata": {},
   "outputs": [
    {
     "data": {
      "text/html": [
       "<div>\n",
       "<style scoped>\n",
       "    .dataframe tbody tr th:only-of-type {\n",
       "        vertical-align: middle;\n",
       "    }\n",
       "\n",
       "    .dataframe tbody tr th {\n",
       "        vertical-align: top;\n",
       "    }\n",
       "\n",
       "    .dataframe thead th {\n",
       "        text-align: right;\n",
       "    }\n",
       "</style>\n",
       "<table border=\"1\" class=\"dataframe\">\n",
       "  <thead>\n",
       "    <tr style=\"text-align: right;\">\n",
       "      <th></th>\n",
       "      <th>influencer</th>\n",
       "      <th>captions</th>\n",
       "      <th>tokens</th>\n",
       "      <th>no_hashtag</th>\n",
       "      <th>hashtag</th>\n",
       "      <th>Category</th>\n",
       "      <th>tier</th>\n",
       "    </tr>\n",
       "  </thead>\n",
       "  <tbody>\n",
       "    <tr>\n",
       "      <th>0</th>\n",
       "      <td>00s_supermodels</td>\n",
       "      <td>#FashionEditorial Scan By Me #IngaSavits for E...</td>\n",
       "      <td>fashioneditorial scan by me ingasavits for ell...</td>\n",
       "      <td>#FashionEditorial Scan By Me #IngaSavits for E...</td>\n",
       "      <td>#FashionEditorial #IngaSavits #ELLE #magazine ...</td>\n",
       "      <td>fashion</td>\n",
       "      <td>Nano</td>\n",
       "    </tr>\n",
       "    <tr>\n",
       "      <th>1</th>\n",
       "      <td>0720_b</td>\n",
       "      <td># # # # # Eternal Beauty # # # estinaofficial...</td>\n",
       "      <td>eternal beauty estinaofficial rosemont santama...</td>\n",
       "      <td># # # # # Eternal Beauty # # # estinaofficial...</td>\n",
       "      <td>#ROSEMONT #santamarianovella #bodylotion #body...</td>\n",
       "      <td>fashion</td>\n",
       "      <td>Micro</td>\n",
       "    </tr>\n",
       "    <tr>\n",
       "      <th>2</th>\n",
       "      <td>0821_me</td>\n",
       "      <td>X 30 httpwwwwemakepricecomdealadeal4079242 # ...</td>\n",
       "      <td>x 30 httpwwwwemakepricecomdealadeal4079242 ad ...</td>\n",
       "      <td>X 30 httpwwwwemakepricecomdealadeal4079242 # ...</td>\n",
       "      <td>#AD #ORT #oxfordreadingtree #Hmall #1 #EM #EM ...</td>\n",
       "      <td>food</td>\n",
       "      <td>Mid-tier</td>\n",
       "    </tr>\n",
       "    <tr>\n",
       "      <th>3</th>\n",
       "      <td>1000manerasdevestir</td>\n",
       "      <td>Vamos a por esta mini semana estrenando total ...</td>\n",
       "      <td>vamos a por esta mini semana estrenando total ...</td>\n",
       "      <td>Vamos a por esta mini semana estrenando total ...</td>\n",
       "      <td>#fashionblogger #1000manerasdevestir #adagatti...</td>\n",
       "      <td>fashion</td>\n",
       "      <td>Micro</td>\n",
       "    </tr>\n",
       "    <tr>\n",
       "      <th>4</th>\n",
       "      <td>100pintas</td>\n",
       "      <td>Mais um mood natalcio #coolkids #fashionkids #...</td>\n",
       "      <td>mais um mood natalcio coolkids fashionkids por...</td>\n",
       "      <td>Mais um mood natalcio #coolkids #fashionkids #...</td>\n",
       "      <td>#coolkids #fashionkids #portuguesebrands #kids...</td>\n",
       "      <td>family</td>\n",
       "      <td>Nano</td>\n",
       "    </tr>\n",
       "  </tbody>\n",
       "</table>\n",
       "</div>"
      ],
      "text/plain": [
       "            influencer                                           captions  \\\n",
       "0      00s_supermodels  #FashionEditorial Scan By Me #IngaSavits for E...   \n",
       "1               0720_b   # # # # # Eternal Beauty # # # estinaofficial...   \n",
       "2              0821_me   X 30 httpwwwwemakepricecomdealadeal4079242 # ...   \n",
       "3  1000manerasdevestir  Vamos a por esta mini semana estrenando total ...   \n",
       "4            100pintas  Mais um mood natalcio #coolkids #fashionkids #...   \n",
       "\n",
       "                                              tokens  \\\n",
       "0  fashioneditorial scan by me ingasavits for ell...   \n",
       "1  eternal beauty estinaofficial rosemont santama...   \n",
       "2  x 30 httpwwwwemakepricecomdealadeal4079242 ad ...   \n",
       "3  vamos a por esta mini semana estrenando total ...   \n",
       "4  mais um mood natalcio coolkids fashionkids por...   \n",
       "\n",
       "                                          no_hashtag  \\\n",
       "0  #FashionEditorial Scan By Me #IngaSavits for E...   \n",
       "1   # # # # # Eternal Beauty # # # estinaofficial...   \n",
       "2   X 30 httpwwwwemakepricecomdealadeal4079242 # ...   \n",
       "3  Vamos a por esta mini semana estrenando total ...   \n",
       "4  Mais um mood natalcio #coolkids #fashionkids #...   \n",
       "\n",
       "                                             hashtag Category      tier  \n",
       "0  #FashionEditorial #IngaSavits #ELLE #magazine ...  fashion      Nano  \n",
       "1  #ROSEMONT #santamarianovella #bodylotion #body...  fashion     Micro  \n",
       "2  #AD #ORT #oxfordreadingtree #Hmall #1 #EM #EM ...     food  Mid-tier  \n",
       "3  #fashionblogger #1000manerasdevestir #adagatti...  fashion     Micro  \n",
       "4  #coolkids #fashionkids #portuguesebrands #kids...   family      Nano  "
      ]
     },
     "execution_count": 457,
     "metadata": {},
     "output_type": "execute_result"
    }
   ],
   "source": [
    "dfs10_user.head()"
   ]
  },
  {
   "cell_type": "markdown",
   "id": "ea68a63d",
   "metadata": {},
   "source": [
    "### Data are sent to D. in order to create features for interests"
   ]
  },
  {
   "cell_type": "code",
   "execution_count": 2,
   "id": "f18aeee0",
   "metadata": {},
   "outputs": [],
   "source": [
    "import pandas as pd\n",
    "dfs10_en = pd.read_csv('/Users/lamga/OneDrive/IOD Lessons/Projects/Extract IG influencer dataset/dfs10enc.csv')"
   ]
  },
  {
   "cell_type": "code",
   "execution_count": 3,
   "id": "3f7ee646",
   "metadata": {},
   "outputs": [],
   "source": [
    "dfs10_user = pd.read_csv('/Users/lamga/OneDrive/IOD Lessons/Projects/Extract IG influencer dataset/dfs10user.csv')"
   ]
  },
  {
   "cell_type": "code",
   "execution_count": 4,
   "id": "8d0cdd5d",
   "metadata": {},
   "outputs": [],
   "source": [
    "influencer_data = pd.read_csv('/Volumes/Untitled/influencer_data.csv')"
   ]
  },
  {
   "cell_type": "code",
   "execution_count": 5,
   "id": "ce9996ab",
   "metadata": {},
   "outputs": [],
   "source": [
    "followers_dict = dict(zip(influencer_data.Username, influencer_data['#Followers']))"
   ]
  },
  {
   "cell_type": "code",
   "execution_count": 7,
   "id": "284dbfaf",
   "metadata": {},
   "outputs": [],
   "source": [
    "dfs10_en['engagement_rate'] = dfs10_en['influencer'].map(followers_dict)"
   ]
  },
  {
   "cell_type": "code",
   "execution_count": 10,
   "id": "a9598a60",
   "metadata": {},
   "outputs": [],
   "source": [
    "dfs10_en['engagement_rate']=(dfs10_en['comment_counts']+dfs10_en['likes'])/dfs10_en['engagement_rate']"
   ]
  },
  {
   "cell_type": "code",
   "execution_count": 15,
   "id": "81da2efb",
   "metadata": {},
   "outputs": [
    {
     "data": {
      "text/plain": [
       "Index(['influencer', 'captions', 'tokens', 'no_hashtag', 'hashtag', 'Category',\n",
       "       'tier'],\n",
       "      dtype='object')"
      ]
     },
     "execution_count": 15,
     "metadata": {},
     "output_type": "execute_result"
    }
   ],
   "source": [
    "dfs10_user.columns"
   ]
  },
  {
   "cell_type": "code",
   "execution_count": 16,
   "id": "13b9250e",
   "metadata": {},
   "outputs": [],
   "source": [
    "tier_dict = dict(zip(dfs10_user.influencer, dfs10_user['tier']))"
   ]
  },
  {
   "cell_type": "code",
   "execution_count": 18,
   "id": "84c2dbb4",
   "metadata": {},
   "outputs": [],
   "source": [
    "dfs10_en['tier'] = dfs10_en['influencer'].map(tier_dict)"
   ]
  },
  {
   "cell_type": "code",
   "execution_count": 22,
   "id": "682ffc4f",
   "metadata": {},
   "outputs": [
    {
     "data": {
      "text/plain": [
       "Micro       71169\n",
       "Nano        67123\n",
       "Mid-tier    40303\n",
       "Macro        3199\n",
       "Mega         3189\n",
       "Name: tier, dtype: int64"
      ]
     },
     "execution_count": 22,
     "metadata": {},
     "output_type": "execute_result"
    }
   ],
   "source": [
    "dfs10_en['tier'].value_counts()"
   ]
  },
  {
   "cell_type": "code",
   "execution_count": 23,
   "id": "1bfa0dc8",
   "metadata": {},
   "outputs": [],
   "source": [
    "dfs10_en.to_csv('/Users/lamga/OneDrive/IOD Lessons/Projects/Extract IG influencer dataset/dfs10enc.csv',index=False, header=True)"
   ]
  },
  {
   "cell_type": "code",
   "execution_count": null,
   "id": "06c5ffd7",
   "metadata": {},
   "outputs": [],
   "source": []
  }
 ],
 "metadata": {
  "kernelspec": {
   "display_name": "Python 3",
   "language": "python",
   "name": "python3"
  },
  "language_info": {
   "codemirror_mode": {
    "name": "ipython",
    "version": 3
   },
   "file_extension": ".py",
   "mimetype": "text/x-python",
   "name": "python",
   "nbconvert_exporter": "python",
   "pygments_lexer": "ipython3",
   "version": "3.8.8"
  }
 },
 "nbformat": 4,
 "nbformat_minor": 5
}
